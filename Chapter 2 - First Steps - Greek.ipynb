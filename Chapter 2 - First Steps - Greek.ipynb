{
 "metadata": {
  "name": "",
  "signature": "sha256:7c79ba725c414930f0188dfe067fa05876d680c3877b90dacc3176e3b2448b09"
 },
 "nbformat": 3,
 "nbformat_minor": 0,
 "worksheets": [
  {
   "cells": [
    {
     "cell_type": "heading",
     "level": 1,
     "metadata": {},
     "source": [
      "Chapter 2: First steps into text processing"
     ]
    },
    {
     "cell_type": "markdown",
     "metadata": {},
     "source": [
      "-- *A Python Course for the Humanities by Folgert Karsdorp and Maarten van Gompel*"
     ]
    },
    {
     "cell_type": "markdown",
     "metadata": {},
     "source": [
      "---"
     ]
    },
    {
     "cell_type": "markdown",
     "metadata": {},
     "source": [
      "The previous chapter has hopefully whet your appetite. In this chapter we will focus on one of the most important tasks in Humanities research: text processing. One of the goals of text processing is to clean up your data as a pre-step to some kind of data analysis. Another common goal is to convert a given text collection to a different format. In this chapter we will provide you with the necessary tools to work with collections of texts, clean them and perform some rudimentary data analyses on them."
     ]
    },
    {
     "cell_type": "heading",
     "level": 2,
     "metadata": {},
     "source": [
      "Reading files"
     ]
    },
    {
     "cell_type": "markdown",
     "metadata": {},
     "source": [
      "Say you have a text stored on your computer. How can we read that text using Python? Python provides a really simple function called `open` with which we can read texts. In the folder `data` you find a couple of small text excerpts that we will use in this chapter. Go ahead and have a look at them. We can open these files with the following command:"
     ]
    },
    {
     "cell_type": "code",
     "collapsed": false,
     "input": [
      "infile = open('data/romans_1:14-23_gk.txt')"
     ],
     "language": "python",
     "metadata": {},
     "outputs": [],
     "prompt_number": 28
    },
    {
     "cell_type": "markdown",
     "metadata": {},
     "source": [
      "We now print `infile`. What do you think that will happen?"
     ]
    },
    {
     "cell_type": "code",
     "collapsed": false,
     "input": [
      "print(infile)"
     ],
     "language": "python",
     "metadata": {},
     "outputs": [
      {
       "output_type": "stream",
       "stream": "stdout",
       "text": [
        "<_io.TextIOWrapper name='data/romans_1:14-23_gk.txt' mode='r' encoding='UTF-8'>\n"
       ]
      }
     ],
     "prompt_number": 29
    },
    {
     "cell_type": "markdown",
     "metadata": {},
     "source": [
      "\"Hey! That's not what I expected to happen!\", you might think. Python is not printing the contents of the file but only some mysterious mention of some `TextIOWrapper`. This `TextIOWrapper` thing is Python's way of saying it has *opened* a connection to the file `data/romans_1_gk.txt`. But it also gives us some information we should pay attention to.  Most importantly, look at the part that says `encoding=`.  If you don't see `'UTF-8` after that `=`, then you need to add another argument to your `open` statement.  Try this instead:"
     ]
    },
    {
     "cell_type": "code",
     "collapsed": false,
     "input": [
      "infile = open('data/romans_1:14-23_gk.txt', encoding='UTF-8')\n",
      "print(infile)"
     ],
     "language": "python",
     "metadata": {},
     "outputs": [
      {
       "output_type": "stream",
       "stream": "stdout",
       "text": [
        "<_io.TextIOWrapper name='data/romans_1:14-23_gk.txt' mode='r' encoding='UTF-8'>\n"
       ]
      }
     ],
     "prompt_number": 30
    },
    {
     "cell_type": "markdown",
     "metadata": {},
     "source": [
      "You should now see `encoding='UTF-8'` at the end of the description of the `TextIOWrapper`.  You will need to make sure to always specify your encoding as UTF-8 if you are working with Greek texts in Windows.  Linux and Mac systems should not need this, however.\n",
      "\n",
      "Now, if we want to *read* the contents of the file we must add the function `read` as follows:"
     ]
    },
    {
     "cell_type": "code",
     "collapsed": false,
     "input": [
      "print(infile.read())"
     ],
     "language": "python",
     "metadata": {},
     "outputs": [
      {
       "output_type": "stream",
       "stream": "stdout",
       "text": [
        " \u1f1d\u03bb\u03bb\u03b7\u03c3\u03af\u03bd \u03c4\u03b5 \u03ba\u03b1\u1f76 \u03b2\u03b1\u03c1\u03b2\u03ac\u03c1\u03bf\u03b9\u03c2, \u03c3\u03bf\u03c6\u03bf\u1fd6\u03c2 \u03c4\u03b5 \u03ba\u03b1\u1f76 \u1f00\u03bd\u03bf\u03ae\u03c4\u03bf\u03b9\u03c2 \u1f40\u03c6\u03b5\u03b9\u03bb\u03ad\u03c4\u03b7\u03c2 \u03b5\u1f30\u03bc\u03af\u00b7 \u03bf\u1f55\u03c4\u03c9\u03c2 \u03c4\u1f78 \u03ba\u03b1\u03c4\u2019 \u1f10\u03bc\u1f72 \u03c0\u03c1\u03cc\u03b8\u03c5\u03bc\u03bf\u03bd \u03ba\u03b1\u1f76 \u1f51\u03bc\u1fd6\u03bd \u03c4\u03bf\u1fd6\u03c2 \u1f10\u03bd \u1fec\u03ce\u03bc\u1fc3 \u03b5\u1f50\u03b1\u03b3\u03b3\u03b5\u03bb\u03af\u03c3\u03b1\u03c3\u03b8\u03b1\u03b9. \u039f\u1f50 \u03b3\u1f70\u03c1 \u1f10\u03c0\u03b1\u03b9\u03c3\u03c7\u03cd\u03bd\u03bf\u03bc\u03b1\u03b9 \u03c4\u1f78 \u2e00\u03b5\u1f50\u03b1\u03b3\u03b3\u03ad\u03bb\u03b9\u03bf\u03bd, \u03b4\u03cd\u03bd\u03b1\u03bc\u03b9\u03c2 \u03b3\u1f70\u03c1 \u03b8\u03b5\u03bf\u1fe6 \u1f10\u03c3\u03c4\u03b9\u03bd \u03b5\u1f30\u03c2 \u03c3\u03c9\u03c4\u03b7\u03c1\u03af\u03b1\u03bd \u03c0\u03b1\u03bd\u03c4\u1f76 \u03c4\u1ff7 \u03c0\u03b9\u03c3\u03c4\u03b5\u03cd\u03bf\u03bd\u03c4\u03b9, \u1f38\u03bf\u03c5\u03b4\u03b1\u03af\u1ff3 \u03c4\u03b5 \u03c0\u03c1\u1ff6\u03c4\u03bf\u03bd \u03ba\u03b1\u1f76 \u1f1d\u03bb\u03bb\u03b7\u03bd\u03b9\u00b7 \u03b4\u03b9\u03ba\u03b1\u03b9\u03bf\u03c3\u03cd\u03bd\u03b7 \u03b3\u1f70\u03c1 \u03b8\u03b5\u03bf\u1fe6 \u1f10\u03bd \u03b1\u1f50\u03c4\u1ff7 \u1f00\u03c0\u03bf\u03ba\u03b1\u03bb\u03cd\u03c0\u03c4\u03b5\u03c4\u03b1\u03b9 \u1f10\u03ba \u03c0\u03af\u03c3\u03c4\u03b5\u03c9\u03c2 \u03b5\u1f30\u03c2 \u03c0\u03af\u03c3\u03c4\u03b9\u03bd, \u03ba\u03b1\u03b8\u1f7c\u03c2 \u03b3\u03ad\u03b3\u03c1\u03b1\u03c0\u03c4\u03b1\u03b9\u00b7 \u1f49 \u03b4\u1f72 \u03b4\u03af\u03ba\u03b1\u03b9\u03bf\u03c2 \u1f10\u03ba \u03c0\u03af\u03c3\u03c4\u03b5\u03c9\u03c2 \u03b6\u03ae\u03c3\u03b5\u03c4\u03b1\u03b9. \u1f08\u03c0\u03bf\u03ba\u03b1\u03bb\u03cd\u03c0\u03c4\u03b5\u03c4\u03b1\u03b9 \u03b3\u1f70\u03c1 \u1f40\u03c1\u03b3\u1f74 \u03b8\u03b5\u03bf\u1fe6 \u1f00\u03c0\u2019 \u03bf\u1f50\u03c1\u03b1\u03bd\u03bf\u1fe6 \u1f10\u03c0\u1f76 \u03c0\u1fb6\u03c3\u03b1\u03bd \u1f00\u03c3\u03ad\u03b2\u03b5\u03b9\u03b1\u03bd \u03ba\u03b1\u1f76 \u1f00\u03b4\u03b9\u03ba\u03af\u03b1\u03bd \u1f00\u03bd\u03b8\u03c1\u03ce\u03c0\u03c9\u03bd \u03c4\u1ff6\u03bd \u03c4\u1f74\u03bd \u1f00\u03bb\u03ae\u03b8\u03b5\u03b9\u03b1\u03bd \u1f10\u03bd \u1f00\u03b4\u03b9\u03ba\u03af\u1fb3 \u03ba\u03b1\u03c4\u03b5\u03c7\u03cc\u03bd\u03c4\u03c9\u03bd, \u03b4\u03b9\u03cc\u03c4\u03b9 \u03c4\u1f78 \u03b3\u03bd\u03c9\u03c3\u03c4\u1f78\u03bd \u03c4\u03bf\u1fe6 \u03b8\u03b5\u03bf\u1fe6 \u03c6\u03b1\u03bd\u03b5\u03c1\u03cc\u03bd \u1f10\u03c3\u03c4\u03b9\u03bd \u1f10\u03bd \u03b1\u1f50\u03c4\u03bf\u1fd6\u03c2, \u1f41 \u2e02\u03b8\u03b5\u1f78\u03c2 \u03b3\u1f70\u03c1\u2e03 \u03b1\u1f50\u03c4\u03bf\u1fd6\u03c2 \u1f10\u03c6\u03b1\u03bd\u03ad\u03c1\u03c9\u03c3\u03b5\u03bd. \u03c4\u1f70 \u03b3\u1f70\u03c1 \u1f00\u03cc\u03c1\u03b1\u03c4\u03b1 \u03b1\u1f50\u03c4\u03bf\u1fe6 \u1f00\u03c0\u1f78 \u03ba\u03c4\u03af\u03c3\u03b5\u03c9\u03c2 \u03ba\u03cc\u03c3\u03bc\u03bf\u03c5 \u03c4\u03bf\u1fd6\u03c2 \u03c0\u03bf\u03b9\u03ae\u03bc\u03b1\u03c3\u03b9\u03bd \u03bd\u03bf\u03bf\u03cd\u03bc\u03b5\u03bd\u03b1 \u03ba\u03b1\u03b8\u03bf\u03c1\u1fb6\u03c4\u03b1\u03b9, \u1f25 \u03c4\u03b5 \u1f00\u0390\u03b4\u03b9\u03bf\u03c2 \u03b1\u1f50\u03c4\u03bf\u1fe6 \u03b4\u03cd\u03bd\u03b1\u03bc\u03b9\u03c2 \u03ba\u03b1\u1f76 \u03b8\u03b5\u03b9\u03cc\u03c4\u03b7\u03c2, \u03b5\u1f30\u03c2 \u03c4\u1f78 \u03b5\u1f36\u03bd\u03b1\u03b9 \u03b1\u1f50\u03c4\u03bf\u1f7a\u03c2 \u1f00\u03bd\u03b1\u03c0\u03bf\u03bb\u03bf\u03b3\u03ae\u03c4\u03bf\u03c5\u03c2, \u03b4\u03b9\u03cc\u03c4\u03b9 \u03b3\u03bd\u03cc\u03bd\u03c4\u03b5\u03c2 \u03c4\u1f78\u03bd \u03b8\u03b5\u1f78\u03bd \u03bf\u1f50\u03c7 \u1f61\u03c2 \u03b8\u03b5\u1f78\u03bd \u1f10\u03b4\u03cc\u03be\u03b1\u03c3\u03b1\u03bd \u1f22 \u03b7\u1f50\u03c7\u03b1\u03c1\u03af\u03c3\u03c4\u03b7\u03c3\u03b1\u03bd, \u1f00\u03bb\u03bb\u1f70 \u1f10\u03bc\u03b1\u03c4\u03b1\u03b9\u03ce\u03b8\u03b7\u03c3\u03b1\u03bd \u1f10\u03bd \u03c4\u03bf\u1fd6\u03c2 \u03b4\u03b9\u03b1\u03bb\u03bf\u03b3\u03b9\u03c3\u03bc\u03bf\u1fd6\u03c2 \u03b1\u1f50\u03c4\u1ff6\u03bd \u03ba\u03b1\u1f76 \u1f10\u03c3\u03ba\u03bf\u03c4\u03af\u03c3\u03b8\u03b7 \u1f21 \u1f00\u03c3\u03cd\u03bd\u03b5\u03c4\u03bf\u03c2 \u03b1\u1f50\u03c4\u1ff6\u03bd \u03ba\u03b1\u03c1\u03b4\u03af\u03b1\u00b7 \u03c6\u03ac\u03c3\u03ba\u03bf\u03bd\u03c4\u03b5\u03c2 \u03b5\u1f36\u03bd\u03b1\u03b9 \u03c3\u03bf\u03c6\u03bf\u1f76 \u1f10\u03bc\u03c9\u03c1\u03ac\u03bd\u03b8\u03b7\u03c3\u03b1\u03bd, \u03ba\u03b1\u1f76 \u1f24\u03bb\u03bb\u03b1\u03be\u03b1\u03bd \u03c4\u1f74\u03bd \u03b4\u03cc\u03be\u03b1\u03bd \u03c4\u03bf\u1fe6 \u1f00\u03c6\u03b8\u03ac\u03c1\u03c4\u03bf\u03c5 \u03b8\u03b5\u03bf\u1fe6 \u1f10\u03bd \u1f41\u03bc\u03bf\u03b9\u03ce\u03bc\u03b1\u03c4\u03b9 \u03b5\u1f30\u03ba\u03cc\u03bd\u03bf\u03c2 \u03c6\u03b8\u03b1\u03c1\u03c4\u03bf\u1fe6 \u1f00\u03bd\u03b8\u03c1\u03ce\u03c0\u03bf\u03c5 \u03ba\u03b1\u1f76 \u03c0\u03b5\u03c4\u03b5\u03b9\u03bd\u1ff6\u03bd \u03ba\u03b1\u1f76 \u03c4\u03b5\u03c4\u03c1\u03b1\u03c0\u03cc\u03b4\u03c9\u03bd \u03ba\u03b1\u1f76 \u1f11\u03c1\u03c0\u03b5\u03c4\u1ff6\u03bd.\n"
       ]
      }
     ],
     "prompt_number": 31
    },
    {
     "cell_type": "markdown",
     "metadata": {},
     "source": [
      "`read` is a function that operates on `TextWrapper` objects and allows us to read the contents of a file into Python. Let's assign the contents of the file to the variable `text`:"
     ]
    },
    {
     "cell_type": "code",
     "collapsed": false,
     "input": [
      "infile = open('data/romans_1:14-23_gk.txt') #add the `encoding=UTF-8` attribute if you need it\n",
      "text = infile.read()"
     ],
     "language": "python",
     "metadata": {},
     "outputs": [],
     "prompt_number": 32
    },
    {
     "cell_type": "markdown",
     "metadata": {},
     "source": [
      "The variable `text` now holds the contents of the file `data/romans_1:14-23_gk.txt` and we can access and manipulate it just like any other string. After we read the contents of a file, the `TextWrapper` no longer needs to be open. In fact, it is good practice to close it as soon as you do not need it anymore. Now, lo and behold, we can achieve that with the following:"
     ]
    },
    {
     "cell_type": "code",
     "collapsed": false,
     "input": [
      "infile.close()"
     ],
     "language": "python",
     "metadata": {},
     "outputs": [],
     "prompt_number": 33
    },
    {
     "cell_type": "markdown",
     "metadata": {},
     "source": [
      "---"
     ]
    },
    {
     "cell_type": "heading",
     "level": 4,
     "metadata": {},
     "source": [
      "Quiz!"
     ]
    },
    {
     "cell_type": "markdown",
     "metadata": {},
     "source": [
      "Just to recap some of the things we learned in the previous chapter. Can you write code that defines the variable `number_of_epsilons` and counts how many times the letter *\u03b5* occurs in `text`? (Tip: use a `for` loop and an `if` statement)"
     ]
    },
    {
     "cell_type": "code",
     "collapsed": false,
     "input": [
      "number_of_epsilons = 0\n",
      "# insert your code here\n",
      "for letter in text:\n",
      "    if '\u03b5' == letter:\n",
      "        number_of_epsilons += 1\n",
      "# The following test should print True if your code is correct \n",
      "print(number_of_epsilons == 44)"
     ],
     "language": "python",
     "metadata": {},
     "outputs": [
      {
       "output_type": "stream",
       "stream": "stdout",
       "text": [
        "True\n"
       ]
      }
     ],
     "prompt_number": 34
    },
    {
     "cell_type": "markdown",
     "metadata": {},
     "source": [
      "---"
     ]
    },
    {
     "cell_type": "heading",
     "level": 2,
     "metadata": {},
     "source": [
      "Writing our first function"
     ]
    },
    {
     "cell_type": "markdown",
     "metadata": {},
     "source": [
      "In the previous quiz, you probably wrote a loop that iterates over all characters in `text` and adds 1 to `number_of_epsilons` each time the program finds the letter *\u03b5*. Counting objects in a text is a very common thing to do. Therefore, Python provides the convenient function `count`. This function operates on strings (`somestring.count(argument)`) and takes as argument the object you want to count. Using this function, the solution to the quiz above can now be rewritten as follows:"
     ]
    },
    {
     "cell_type": "code",
     "collapsed": false,
     "input": [
      "number_of_epsilons = text.count(\"\u03b5\")\n",
      "print(number_of_epsilons)"
     ],
     "language": "python",
     "metadata": {},
     "outputs": [
      {
       "output_type": "stream",
       "stream": "stdout",
       "text": [
        "44\n"
       ]
      }
     ],
     "prompt_number": 35
    },
    {
     "cell_type": "markdown",
     "metadata": {},
     "source": [
      "In fact, `count` takes as argument any string you would like to find. We could just as well count how often the conjunction `\u03c4\u03b5` occurs:"
     ]
    },
    {
     "cell_type": "code",
     "collapsed": false,
     "input": [
      "print(text.count(\"\u03c4\u03b5\"))"
     ],
     "language": "python",
     "metadata": {},
     "outputs": [
      {
       "output_type": "stream",
       "stream": "stdout",
       "text": [
        "14\n"
       ]
      }
     ],
     "prompt_number": 36
    },
    {
     "cell_type": "markdown",
     "metadata": {},
     "source": [
      "The string `\u03c4\u03b5` is found 14 times in our text. Does that mean that the word *\u03c4\u03b5* occurs 14 times in our text? Go ahead. Count it yourself. In fact, *\u03c4\u03b5* occurs only four times... Think about this. Why does Python print 14?\n",
      "\n",
      "If we want to count how often the word *\u03c4\u03b5* occurs in the text and not the string `\u03c4\u03b5`, we could surround *\u03c4\u03b5* with spaces, like the following:"
     ]
    },
    {
     "cell_type": "code",
     "collapsed": false,
     "input": [
      "print(text.count(\" \u03c4\u03b5 \"))"
     ],
     "language": "python",
     "metadata": {},
     "outputs": [
      {
       "output_type": "stream",
       "stream": "stdout",
       "text": [
        "4\n"
       ]
      }
     ],
     "prompt_number": 37
    },
    {
     "cell_type": "markdown",
     "metadata": {},
     "source": [
      "Although it gets the job done in this particular case, it is generally not a very solid way of counting words in a text. What if there are instances of *\u03c4\u03b5* followed by a comma or some end-of-sentence marker? Then we would need to query the text multiple times for each possible context of *\u03c4\u03b5*. For that reason, we're going to approach the problem using a different, more sophisticated strategy. \n",
      "\n",
      "Recall from the previous chapter the function `split`. What does this function do? The function `split` operates on a string and splits a string on spaces and returns a list of smaller strings (or words):"
     ]
    },
    {
     "cell_type": "code",
     "collapsed": false,
     "input": [
      "print(text.split())"
     ],
     "language": "python",
     "metadata": {},
     "outputs": [
      {
       "output_type": "stream",
       "stream": "stdout",
       "text": [
        "['\u1f1d\u03bb\u03bb\u03b7\u03c3\u03af\u03bd', '\u03c4\u03b5', '\u03ba\u03b1\u1f76', '\u03b2\u03b1\u03c1\u03b2\u03ac\u03c1\u03bf\u03b9\u03c2,', '\u03c3\u03bf\u03c6\u03bf\u1fd6\u03c2', '\u03c4\u03b5', '\u03ba\u03b1\u1f76', '\u1f00\u03bd\u03bf\u03ae\u03c4\u03bf\u03b9\u03c2', '\u1f40\u03c6\u03b5\u03b9\u03bb\u03ad\u03c4\u03b7\u03c2', '\u03b5\u1f30\u03bc\u03af\u00b7', '\u03bf\u1f55\u03c4\u03c9\u03c2', '\u03c4\u1f78', '\u03ba\u03b1\u03c4\u2019', '\u1f10\u03bc\u1f72', '\u03c0\u03c1\u03cc\u03b8\u03c5\u03bc\u03bf\u03bd', '\u03ba\u03b1\u1f76', '\u1f51\u03bc\u1fd6\u03bd', '\u03c4\u03bf\u1fd6\u03c2', '\u1f10\u03bd', '\u1fec\u03ce\u03bc\u1fc3', '\u03b5\u1f50\u03b1\u03b3\u03b3\u03b5\u03bb\u03af\u03c3\u03b1\u03c3\u03b8\u03b1\u03b9.', '\u039f\u1f50', '\u03b3\u1f70\u03c1', '\u1f10\u03c0\u03b1\u03b9\u03c3\u03c7\u03cd\u03bd\u03bf\u03bc\u03b1\u03b9', '\u03c4\u1f78', '\u2e00\u03b5\u1f50\u03b1\u03b3\u03b3\u03ad\u03bb\u03b9\u03bf\u03bd,', '\u03b4\u03cd\u03bd\u03b1\u03bc\u03b9\u03c2', '\u03b3\u1f70\u03c1', '\u03b8\u03b5\u03bf\u1fe6', '\u1f10\u03c3\u03c4\u03b9\u03bd', '\u03b5\u1f30\u03c2', '\u03c3\u03c9\u03c4\u03b7\u03c1\u03af\u03b1\u03bd', '\u03c0\u03b1\u03bd\u03c4\u1f76', '\u03c4\u1ff7', '\u03c0\u03b9\u03c3\u03c4\u03b5\u03cd\u03bf\u03bd\u03c4\u03b9,', '\u1f38\u03bf\u03c5\u03b4\u03b1\u03af\u1ff3', '\u03c4\u03b5', '\u03c0\u03c1\u1ff6\u03c4\u03bf\u03bd', '\u03ba\u03b1\u1f76', '\u1f1d\u03bb\u03bb\u03b7\u03bd\u03b9\u00b7', '\u03b4\u03b9\u03ba\u03b1\u03b9\u03bf\u03c3\u03cd\u03bd\u03b7', '\u03b3\u1f70\u03c1', '\u03b8\u03b5\u03bf\u1fe6', '\u1f10\u03bd', '\u03b1\u1f50\u03c4\u1ff7', '\u1f00\u03c0\u03bf\u03ba\u03b1\u03bb\u03cd\u03c0\u03c4\u03b5\u03c4\u03b1\u03b9', '\u1f10\u03ba', '\u03c0\u03af\u03c3\u03c4\u03b5\u03c9\u03c2', '\u03b5\u1f30\u03c2', '\u03c0\u03af\u03c3\u03c4\u03b9\u03bd,', '\u03ba\u03b1\u03b8\u1f7c\u03c2', '\u03b3\u03ad\u03b3\u03c1\u03b1\u03c0\u03c4\u03b1\u03b9\u00b7', '\u1f49', '\u03b4\u1f72', '\u03b4\u03af\u03ba\u03b1\u03b9\u03bf\u03c2', '\u1f10\u03ba', '\u03c0\u03af\u03c3\u03c4\u03b5\u03c9\u03c2', '\u03b6\u03ae\u03c3\u03b5\u03c4\u03b1\u03b9.', '\u1f08\u03c0\u03bf\u03ba\u03b1\u03bb\u03cd\u03c0\u03c4\u03b5\u03c4\u03b1\u03b9', '\u03b3\u1f70\u03c1', '\u1f40\u03c1\u03b3\u1f74', '\u03b8\u03b5\u03bf\u1fe6', '\u1f00\u03c0\u2019', '\u03bf\u1f50\u03c1\u03b1\u03bd\u03bf\u1fe6', '\u1f10\u03c0\u1f76', '\u03c0\u1fb6\u03c3\u03b1\u03bd', '\u1f00\u03c3\u03ad\u03b2\u03b5\u03b9\u03b1\u03bd', '\u03ba\u03b1\u1f76', '\u1f00\u03b4\u03b9\u03ba\u03af\u03b1\u03bd', '\u1f00\u03bd\u03b8\u03c1\u03ce\u03c0\u03c9\u03bd', '\u03c4\u1ff6\u03bd', '\u03c4\u1f74\u03bd', '\u1f00\u03bb\u03ae\u03b8\u03b5\u03b9\u03b1\u03bd', '\u1f10\u03bd', '\u1f00\u03b4\u03b9\u03ba\u03af\u1fb3', '\u03ba\u03b1\u03c4\u03b5\u03c7\u03cc\u03bd\u03c4\u03c9\u03bd,', '\u03b4\u03b9\u03cc\u03c4\u03b9', '\u03c4\u1f78', '\u03b3\u03bd\u03c9\u03c3\u03c4\u1f78\u03bd', '\u03c4\u03bf\u1fe6', '\u03b8\u03b5\u03bf\u1fe6', '\u03c6\u03b1\u03bd\u03b5\u03c1\u03cc\u03bd', '\u1f10\u03c3\u03c4\u03b9\u03bd', '\u1f10\u03bd', '\u03b1\u1f50\u03c4\u03bf\u1fd6\u03c2,', '\u1f41', '\u2e02\u03b8\u03b5\u1f78\u03c2', '\u03b3\u1f70\u03c1\u2e03', '\u03b1\u1f50\u03c4\u03bf\u1fd6\u03c2', '\u1f10\u03c6\u03b1\u03bd\u03ad\u03c1\u03c9\u03c3\u03b5\u03bd.', '\u03c4\u1f70', '\u03b3\u1f70\u03c1', '\u1f00\u03cc\u03c1\u03b1\u03c4\u03b1', '\u03b1\u1f50\u03c4\u03bf\u1fe6', '\u1f00\u03c0\u1f78', '\u03ba\u03c4\u03af\u03c3\u03b5\u03c9\u03c2', '\u03ba\u03cc\u03c3\u03bc\u03bf\u03c5', '\u03c4\u03bf\u1fd6\u03c2', '\u03c0\u03bf\u03b9\u03ae\u03bc\u03b1\u03c3\u03b9\u03bd', '\u03bd\u03bf\u03bf\u03cd\u03bc\u03b5\u03bd\u03b1', '\u03ba\u03b1\u03b8\u03bf\u03c1\u1fb6\u03c4\u03b1\u03b9,', '\u1f25', '\u03c4\u03b5', '\u1f00\u0390\u03b4\u03b9\u03bf\u03c2', '\u03b1\u1f50\u03c4\u03bf\u1fe6', '\u03b4\u03cd\u03bd\u03b1\u03bc\u03b9\u03c2', '\u03ba\u03b1\u1f76', '\u03b8\u03b5\u03b9\u03cc\u03c4\u03b7\u03c2,', '\u03b5\u1f30\u03c2', '\u03c4\u1f78', '\u03b5\u1f36\u03bd\u03b1\u03b9', '\u03b1\u1f50\u03c4\u03bf\u1f7a\u03c2', '\u1f00\u03bd\u03b1\u03c0\u03bf\u03bb\u03bf\u03b3\u03ae\u03c4\u03bf\u03c5\u03c2,', '\u03b4\u03b9\u03cc\u03c4\u03b9', '\u03b3\u03bd\u03cc\u03bd\u03c4\u03b5\u03c2', '\u03c4\u1f78\u03bd', '\u03b8\u03b5\u1f78\u03bd', '\u03bf\u1f50\u03c7', '\u1f61\u03c2', '\u03b8\u03b5\u1f78\u03bd', '\u1f10\u03b4\u03cc\u03be\u03b1\u03c3\u03b1\u03bd', '\u1f22', '\u03b7\u1f50\u03c7\u03b1\u03c1\u03af\u03c3\u03c4\u03b7\u03c3\u03b1\u03bd,', '\u1f00\u03bb\u03bb\u1f70', '\u1f10\u03bc\u03b1\u03c4\u03b1\u03b9\u03ce\u03b8\u03b7\u03c3\u03b1\u03bd', '\u1f10\u03bd', '\u03c4\u03bf\u1fd6\u03c2', '\u03b4\u03b9\u03b1\u03bb\u03bf\u03b3\u03b9\u03c3\u03bc\u03bf\u1fd6\u03c2', '\u03b1\u1f50\u03c4\u1ff6\u03bd', '\u03ba\u03b1\u1f76', '\u1f10\u03c3\u03ba\u03bf\u03c4\u03af\u03c3\u03b8\u03b7', '\u1f21', '\u1f00\u03c3\u03cd\u03bd\u03b5\u03c4\u03bf\u03c2', '\u03b1\u1f50\u03c4\u1ff6\u03bd', '\u03ba\u03b1\u03c1\u03b4\u03af\u03b1\u00b7', '\u03c6\u03ac\u03c3\u03ba\u03bf\u03bd\u03c4\u03b5\u03c2', '\u03b5\u1f36\u03bd\u03b1\u03b9', '\u03c3\u03bf\u03c6\u03bf\u1f76', '\u1f10\u03bc\u03c9\u03c1\u03ac\u03bd\u03b8\u03b7\u03c3\u03b1\u03bd,', '\u03ba\u03b1\u1f76', '\u1f24\u03bb\u03bb\u03b1\u03be\u03b1\u03bd', '\u03c4\u1f74\u03bd', '\u03b4\u03cc\u03be\u03b1\u03bd', '\u03c4\u03bf\u1fe6', '\u1f00\u03c6\u03b8\u03ac\u03c1\u03c4\u03bf\u03c5', '\u03b8\u03b5\u03bf\u1fe6', '\u1f10\u03bd', '\u1f41\u03bc\u03bf\u03b9\u03ce\u03bc\u03b1\u03c4\u03b9', '\u03b5\u1f30\u03ba\u03cc\u03bd\u03bf\u03c2', '\u03c6\u03b8\u03b1\u03c1\u03c4\u03bf\u1fe6', '\u1f00\u03bd\u03b8\u03c1\u03ce\u03c0\u03bf\u03c5', '\u03ba\u03b1\u1f76', '\u03c0\u03b5\u03c4\u03b5\u03b9\u03bd\u1ff6\u03bd', '\u03ba\u03b1\u1f76', '\u03c4\u03b5\u03c4\u03c1\u03b1\u03c0\u03cc\u03b4\u03c9\u03bd', '\u03ba\u03b1\u1f76', '\u1f11\u03c1\u03c0\u03b5\u03c4\u1ff6\u03bd.']\n"
       ]
      }
     ],
     "prompt_number": 38
    },
    {
     "cell_type": "markdown",
     "metadata": {},
     "source": [
      "---"
     ]
    },
    {
     "cell_type": "heading",
     "level": 4,
     "metadata": {},
     "source": [
      "Quiz!"
     ]
    },
    {
     "cell_type": "markdown",
     "metadata": {},
     "source": [
      "All the things you have learnt so far should enable you to write code that counts how often a certain items occurs in a list. Write some code that defines the variable `number_of_hits` and counts how often the word *\u1f10\u03bd* (assigned to `item_to_count`) occurs in the the list of words called `words`."
     ]
    },
    {
     "cell_type": "code",
     "collapsed": false,
     "input": [
      "words = text.split()\n",
      "item_to_count = \"\u1f10\u03bd\"\n",
      "#number_of_hits = 0\n",
      "# insert your code here\n",
      "#for word in words:\n",
      "#    if word == item_to_count:\n",
      "#        number_of_hits += 1\n",
      "        \n",
      "number_of_hits = words.count(item_to_count)\n",
      "\n",
      "# The following test should print True if your code is correct \n",
      "print(number_of_hits == 6)"
     ],
     "language": "python",
     "metadata": {},
     "outputs": [
      {
       "output_type": "stream",
       "stream": "stdout",
       "text": [
        "True\n"
       ]
      }
     ],
     "prompt_number": 39
    },
    {
     "cell_type": "markdown",
     "metadata": {},
     "source": [
      "---"
     ]
    },
    {
     "cell_type": "markdown",
     "metadata": {},
     "source": [
      "We will go through the previous quiz step by step. We would like to know how often the preposition *\u1f10\u03bd* occurs in our text. As a first step we will split the string `text` into a list of words:"
     ]
    },
    {
     "cell_type": "code",
     "collapsed": false,
     "input": [
      "words = text.split()"
     ],
     "language": "python",
     "metadata": {},
     "outputs": [],
     "prompt_number": 40
    },
    {
     "cell_type": "markdown",
     "metadata": {},
     "source": [
      "Then we call the `count` method on `words` to find the number of `\u1f10\u03bd`s in `words`:"
     ]
    },
    {
     "cell_type": "code",
     "collapsed": false,
     "input": [
      "item_to_count = \"\u1f10\u03bd\"\n",
      "number_of_hits = words.count(item_to_count)\n",
      "print(number_of_hits)"
     ],
     "language": "python",
     "metadata": {},
     "outputs": [
      {
       "output_type": "stream",
       "stream": "stdout",
       "text": [
        "6\n"
       ]
      }
     ],
     "prompt_number": 41
    },
    {
     "cell_type": "markdown",
     "metadata": {},
     "source": [
      "Now, say we would like to know how often the word *\u03ba\u03b1\u1f76* occurs in our text. We could adapt the previous lines of code to search for the word *\u03ba\u03b1\u1f76*, but what if we also would like to count the number of times *\u03b5\u1f30\u03c2* occurs, and *\u03b4\u03cd\u03bd\u03b1\u03bc\u03b9\u03c2* and *\u03b8\u03b5\u03cc\u03c2* and... It would be really cumbersome to repeat all these lines of code for each particular search term we have. Programming is supposed to reduce our workload, not increase it. Just like the function `count` for strings, we would like to have a function that operates on lists, takes as argument the object we would like to count and returns the number of times this object occurs in our list.\n",
      "\n",
      "In this and the previous chapter you have already seen lots of functions. A function does something, often based on some argument you pass to it, and generally returns a result. You are not just limited to using functions in the standard library but you can write your own functions.\n",
      "\n",
      "In fact, you *must* write your own functions. Separating your problem into sub-problems and writing a function for each of those is an immensely important part of well-structured programming. Functions are defined using the `def` keyword, they take a name and optionally a number of parameters. \n",
      "\n",
      "    def some_name(optional_parameters):\n",
      "\n",
      "The `return` statement returns a value back to the caller and always ends the execution of the function. \n",
      "\n",
      "Going back to our problem, we want to write a function called `count_in_list`. It takes two arguments: (1) the object we would like to count and (2) the list in which we want to count that object. Let's write down the function definition in Python:\n",
      "\n",
      "    def count_in_list(item_to_count, list_to_search):\n",
      "    \n",
      "Do you understand all the syntax and keywords in the definition above? Now all we need to do is to add the lines of code we wrote before to the body of this function:"
     ]
    },
    {
     "cell_type": "code",
     "collapsed": false,
     "input": [
      "def count_in_list(item_to_count, list_to_search): \n",
      "    #list_to_search.count(item_to_count)               \n",
      "    return list_to_search.count(item_to_count)                        "
     ],
     "language": "python",
     "metadata": {},
     "outputs": [],
     "prompt_number": 42
    },
    {
     "cell_type": "markdown",
     "metadata": {},
     "source": [
      "All code should be familiar to you, except the `return` keyword. The `return` keyword is there to tell python to return as a result of calling the function the argument `number_of_hits`. OK, let's go through our function one more time, just to make sure you really understand all of it.\n",
      "\n",
      "1. First we define a function using `def` and give it the name `count_in_list` (line 1);\n",
      "2. This function takes two arguments: `item_to_count` and `list_to_search` (line 1);\n",
      "3. Within the function, we define a variable `number_of_hits` and assign to it the value of the `count` called on our `list_to_search` with our `item_to_count` as the argument\n",
      "4. Return the result of `number_of_hits` (line 3).\n",
      "\n",
      "Let's test our little function! We will first count how often the word *\u03ba\u03b1\u1f76* occurs in our list of words `words`."
     ]
    },
    {
     "cell_type": "code",
     "collapsed": false,
     "input": [
      "print(count_in_list(\"\u03ba\u03b1\u1f76\", words))\n",
      "kai_counts = count_in_list(\"\u03ba\u03b1\u1f76\", words)\n",
      "print(kai_counts)"
     ],
     "language": "python",
     "metadata": {},
     "outputs": [
      {
       "output_type": "stream",
       "stream": "stdout",
       "text": [
        "11\n",
        "11\n"
       ]
      }
     ],
     "prompt_number": 43
    },
    {
     "cell_type": "markdown",
     "metadata": {},
     "source": [
      "---"
     ]
    },
    {
     "cell_type": "heading",
     "level": 4,
     "metadata": {},
     "source": [
      "Quiz!"
     ]
    },
    {
     "cell_type": "markdown",
     "metadata": {},
     "source": [
      "Using the function we defined, print how often the word *\u03b8\u03b5\u03bf\u1fe6* occurs in our text"
     ]
    },
    {
     "cell_type": "code",
     "collapsed": false,
     "input": [
      "# insert your code here\n",
      "print(count_in_list('\u03b8\u03b5\u03bf\u1fe6', words))"
     ],
     "language": "python",
     "metadata": {},
     "outputs": [
      {
       "output_type": "stream",
       "stream": "stdout",
       "text": [
        "5\n"
       ]
      }
     ],
     "prompt_number": 44
    },
    {
     "cell_type": "markdown",
     "metadata": {},
     "source": [
      "---"
     ]
    },
    {
     "cell_type": "heading",
     "level": 2,
     "metadata": {},
     "source": [
      "A more general count function"
     ]
    },
    {
     "cell_type": "markdown",
     "metadata": {},
     "source": [
      "Our function `count_in_list` is a concise and convenient piece of code allowing us to rapidly and without too much repitition count how often certain items occur in a given list. Now what if we would like to find out for all words in our text how often they occur. Then it would be still quite cumbersome to call our function for each unique word. We would like to have a function that takes as argument a particular list and counts for each unique item in that list how often it occurs. There are multiple ways of writing such a function. We will show you two ways of doing it."
     ]
    },
    {
     "cell_type": "heading",
     "level": 3,
     "metadata": {},
     "source": [
      "A count function (take 1)"
     ]
    },
    {
     "cell_type": "markdown",
     "metadata": {},
     "source": [
      "In the previous chapter you have acquainted yourself with the `dictionary` structure. Recall that a dictionary consists of keys and values and allows you to quickly lookup a value. We will use a dictionary to write the function `counter` that takes as argument a list and returns a `dictionary` with `keys` for each unique item and `values` showing the number of times it occurs in the list. We will first write some code without the function declaration. If that works, we will add it, just as before, to the body of a function.\n",
      "\n",
      "We start with defining a variable `counts` which is an empty dictionary:"
     ]
    },
    {
     "cell_type": "code",
     "collapsed": false,
     "input": [
      "counts = {}"
     ],
     "language": "python",
     "metadata": {},
     "outputs": [],
     "prompt_number": 45
    },
    {
     "cell_type": "markdown",
     "metadata": {},
     "source": [
      "Next we will loop over all words in our list `words`. For each word, we check whether the dictionary already contains it. If not, we call the `count` method on our `words` list to discover how often the word occurs."
     ]
    },
    {
     "cell_type": "code",
     "collapsed": false,
     "input": [
      "for word in words:\n",
      "    if word not in counts:\n",
      "        counts[word] = words.count(word)\n",
      "print(counts)\n",
      "print(counts['\u03c3\u03bf\u03c6\u03bf\u1fd6\u03c2'])"
     ],
     "language": "python",
     "metadata": {},
     "outputs": [
      {
       "output_type": "stream",
       "stream": "stdout",
       "text": [
        "{'\u03ba\u03b1\u1f76': 11, '\u2e02\u03b8\u03b5\u1f78\u03c2': 1, '\u03ba\u03c4\u03af\u03c3\u03b5\u03c9\u03c2': 1, '\u03b1\u1f50\u03c4\u03bf\u1fd6\u03c2': 1, '\u03b4\u03af\u03ba\u03b1\u03b9\u03bf\u03c2': 1, '\u1f38\u03bf\u03c5\u03b4\u03b1\u03af\u1ff3': 1, '\u03c4\u03b5\u03c4\u03c1\u03b1\u03c0\u03cc\u03b4\u03c9\u03bd': 1, '\u1f00\u0390\u03b4\u03b9\u03bf\u03c2': 1, '\u03ba\u03b1\u03b8\u03bf\u03c1\u1fb6\u03c4\u03b1\u03b9,': 1, '\u1f25': 1, '\u03b8\u03b5\u03bf\u1fe6': 5, '\u03c4\u1f78\u03bd': 1, '\u03b5\u1f30\u03bc\u03af\u00b7': 1, '\u1f00\u03c0\u1f78': 1, '\u03b7\u1f50\u03c7\u03b1\u03c1\u03af\u03c3\u03c4\u03b7\u03c3\u03b1\u03bd,': 1, '\u2e00\u03b5\u1f50\u03b1\u03b3\u03b3\u03ad\u03bb\u03b9\u03bf\u03bd,': 1, '\u1f10\u03bc\u1f72': 1, '\u1f00\u03b4\u03b9\u03ba\u03af\u1fb3': 1, '\u03b1\u1f50\u03c4\u1ff7': 1, '\u1f10\u03bc\u03b1\u03c4\u03b1\u03b9\u03ce\u03b8\u03b7\u03c3\u03b1\u03bd': 1, '\u1f00\u03c3\u03cd\u03bd\u03b5\u03c4\u03bf\u03c2': 1, '\u1f1d\u03bb\u03bb\u03b7\u03c3\u03af\u03bd': 1, '\u1f00\u03c6\u03b8\u03ac\u03c1\u03c4\u03bf\u03c5': 1, '\u03c4\u1ff6\u03bd': 1, '\u03c0\u03c1\u03cc\u03b8\u03c5\u03bc\u03bf\u03bd': 1, '\u1f00\u03c0\u03bf\u03ba\u03b1\u03bb\u03cd\u03c0\u03c4\u03b5\u03c4\u03b1\u03b9': 1, '\u03b4\u03b9\u03b1\u03bb\u03bf\u03b3\u03b9\u03c3\u03bc\u03bf\u1fd6\u03c2': 1, '\u1f10\u03c0\u03b1\u03b9\u03c3\u03c7\u03cd\u03bd\u03bf\u03bc\u03b1\u03b9': 1, '\u1f22': 1, '\u1f24\u03bb\u03bb\u03b1\u03be\u03b1\u03bd': 1, '\u03c4\u1ff7': 1, '\u03c4\u1f78': 4, '\u03bd\u03bf\u03bf\u03cd\u03bc\u03b5\u03bd\u03b1': 1, '\u1f40\u03c6\u03b5\u03b9\u03bb\u03ad\u03c4\u03b7\u03c2': 1, '\u03c0\u03bf\u03b9\u03ae\u03bc\u03b1\u03c3\u03b9\u03bd': 1, '\u03ba\u03b1\u03c1\u03b4\u03af\u03b1\u00b7': 1, '\u1f10\u03c3\u03c4\u03b9\u03bd': 2, '\u03b2\u03b1\u03c1\u03b2\u03ac\u03c1\u03bf\u03b9\u03c2,': 1, '\u03bf\u1f55\u03c4\u03c9\u03c2': 1, '\u03c4\u1f70': 1, '\u03b1\u1f50\u03c4\u03bf\u1fd6\u03c2,': 1, '\u1f10\u03bd': 6, '\u1f08\u03c0\u03bf\u03ba\u03b1\u03bb\u03cd\u03c0\u03c4\u03b5\u03c4\u03b1\u03b9': 1, '\u03ba\u03b1\u03c4\u2019': 1, '\u03b3\u1f70\u03c1\u2e03': 1, '\u1f10\u03c3\u03ba\u03bf\u03c4\u03af\u03c3\u03b8\u03b7': 1, '\u03c0\u03b1\u03bd\u03c4\u1f76': 1, '\u1f00\u03b4\u03b9\u03ba\u03af\u03b1\u03bd': 1, '\u03b5\u1f30\u03c2': 3, '\u1f41': 1, '\u1f00\u03bd\u03b1\u03c0\u03bf\u03bb\u03bf\u03b3\u03ae\u03c4\u03bf\u03c5\u03c2,': 1, '\u1f21': 1, '\u039f\u1f50': 1, '\u03c4\u03b5': 4, '\u1f10\u03b4\u03cc\u03be\u03b1\u03c3\u03b1\u03bd': 1, '\u1f10\u03c6\u03b1\u03bd\u03ad\u03c1\u03c9\u03c3\u03b5\u03bd.': 1, '\u03b4\u1f72': 1, '\u03c4\u03bf\u1fd6\u03c2': 3, '\u1f00\u03bd\u03b8\u03c1\u03ce\u03c0\u03c9\u03bd': 1, '\u1f61\u03c2': 1, '\u03ba\u03b1\u03b8\u1f7c\u03c2': 1, '\u03c0\u1fb6\u03c3\u03b1\u03bd': 1, '\u1f00\u03bb\u03bb\u1f70': 1, '\u03b5\u1f36\u03bd\u03b1\u03b9': 2, '\u1f00\u03cc\u03c1\u03b1\u03c4\u03b1': 1, '\u03b5\u1f50\u03b1\u03b3\u03b3\u03b5\u03bb\u03af\u03c3\u03b1\u03c3\u03b8\u03b1\u03b9.': 1, '\u03b3\u03bd\u03c9\u03c3\u03c4\u1f78\u03bd': 1, '\u03b8\u03b5\u03b9\u03cc\u03c4\u03b7\u03c2,': 1, '\u03c3\u03c9\u03c4\u03b7\u03c1\u03af\u03b1\u03bd': 1, '\u03bf\u1f50\u03c1\u03b1\u03bd\u03bf\u1fe6': 1, '\u03c3\u03bf\u03c6\u03bf\u1fd6\u03c2': 1, '\u03c6\u03b8\u03b1\u03c1\u03c4\u03bf\u1fe6': 1, '\u03b8\u03b5\u1f78\u03bd': 2, '\u03b4\u03b9\u03cc\u03c4\u03b9': 2, '\u03b1\u1f50\u03c4\u03bf\u1fe6': 2, '\u03b1\u1f50\u03c4\u1ff6\u03bd': 2, '\u03b3\u1f70\u03c1': 5, '\u03c3\u03bf\u03c6\u03bf\u1f76': 1, '\u03c6\u03b1\u03bd\u03b5\u03c1\u03cc\u03bd': 1, '\u1f00\u03c0\u2019': 1, '\u1f40\u03c1\u03b3\u1f74': 1, '\u03c4\u1f74\u03bd': 2, '\u03c0\u03af\u03c3\u03c4\u03b5\u03c9\u03c2': 2, '\u03ba\u03b1\u03c4\u03b5\u03c7\u03cc\u03bd\u03c4\u03c9\u03bd,': 1, '\u03b4\u03cc\u03be\u03b1\u03bd': 1, '\u03b1\u1f50\u03c4\u03bf\u1f7a\u03c2': 1, '\u1f00\u03bd\u03b8\u03c1\u03ce\u03c0\u03bf\u03c5': 1, '\u1f11\u03c1\u03c0\u03b5\u03c4\u1ff6\u03bd.': 1, '\u03b3\u03ad\u03b3\u03c1\u03b1\u03c0\u03c4\u03b1\u03b9\u00b7': 1, '\u1f49': 1, '\u1f00\u03bb\u03ae\u03b8\u03b5\u03b9\u03b1\u03bd': 1, '\u03b6\u03ae\u03c3\u03b5\u03c4\u03b1\u03b9.': 1, '\u03b4\u03b9\u03ba\u03b1\u03b9\u03bf\u03c3\u03cd\u03bd\u03b7': 1, '\u1f00\u03c3\u03ad\u03b2\u03b5\u03b9\u03b1\u03bd': 1, '\u03c6\u03ac\u03c3\u03ba\u03bf\u03bd\u03c4\u03b5\u03c2': 1, '\u03b4\u03cd\u03bd\u03b1\u03bc\u03b9\u03c2': 2, '\u03c4\u03bf\u1fe6': 2, '\u1f51\u03bc\u1fd6\u03bd': 1, '\u1f10\u03c0\u1f76': 1, '\u03c0\u03b9\u03c3\u03c4\u03b5\u03cd\u03bf\u03bd\u03c4\u03b9,': 1, '\u03c0\u03c1\u1ff6\u03c4\u03bf\u03bd': 1, '\u1f1d\u03bb\u03bb\u03b7\u03bd\u03b9\u00b7': 1, '\u1f00\u03bd\u03bf\u03ae\u03c4\u03bf\u03b9\u03c2': 1, '\u03c0\u03af\u03c3\u03c4\u03b9\u03bd,': 1, '\u03b5\u1f30\u03ba\u03cc\u03bd\u03bf\u03c2': 1, '\u1fec\u03ce\u03bc\u1fc3': 1, '\u03bf\u1f50\u03c7': 1, '\u03c0\u03b5\u03c4\u03b5\u03b9\u03bd\u1ff6\u03bd': 1, '\u1f10\u03bc\u03c9\u03c1\u03ac\u03bd\u03b8\u03b7\u03c3\u03b1\u03bd,': 1, '\u1f10\u03ba': 2, '\u03ba\u03cc\u03c3\u03bc\u03bf\u03c5': 1, '\u03b3\u03bd\u03cc\u03bd\u03c4\u03b5\u03c2': 1, '\u1f41\u03bc\u03bf\u03b9\u03ce\u03bc\u03b1\u03c4\u03b9': 1}\n",
        "1\n"
       ]
      }
     ],
     "prompt_number": 46
    },
    {
     "cell_type": "markdown",
     "metadata": {},
     "source": [
      "If you don't remember anymore how dictionaries work, go back to the previous chapter and read the part about dictionaries once more.\n",
      "\n",
      "Notice that we didn't do anything if we found the words already in our dictionary.  We don't have to since we already have the counts for that word.\n",
      "\n",
      "Now that our code is working, we can add it to a function. We define the function `counter` using the `def` keyword. It takes one argument (`list_to_search`)."
     ]
    },
    {
     "cell_type": "code",
     "collapsed": false,
     "input": [
      "def counter(list_to_search):                 \n",
      "    counts = {}                              \n",
      "    for word in list_to_search:              \n",
      "        if word not in counts:                   \n",
      "            counts[word] = list_to_search.count(word)                 \n",
      "    return counts                            "
     ],
     "language": "python",
     "metadata": {},
     "outputs": [],
     "prompt_number": 47
    },
    {
     "cell_type": "markdown",
     "metadata": {},
     "source": [
      "Hopefully we are boring you, but let's go through this function step by step.\n",
      "\n",
      "1. We define a function using `def` and give it the name `counter` (line 1);\n",
      "2. This function takes a single argument `list_to_search` which is the list we want to search through (line 1);\n",
      "3. Next we define a variable `counts` which is an empty dictionary (line 2);\n",
      "4. We loop over all words in `list_to_search` (line 3);\n",
      "5. If the word is not already in `counts`, we look up the number of times it occurs in our list (lines 4-5);\n",
      "7. Return the result of counts (line 6);\n",
      "\n",
      "Let's try out our new function!"
     ]
    },
    {
     "cell_type": "code",
     "collapsed": false,
     "input": [
      "counts = counter(words)\n",
      "print(counts)\n",
      "print('\u03b3\u1f70\u03c1\u2e03 occurs ' + str(counts['\u03b3\u1f70\u03c1\u2e03']) + ' times.')"
     ],
     "language": "python",
     "metadata": {},
     "outputs": [
      {
       "output_type": "stream",
       "stream": "stdout",
       "text": [
        "{'\u03ba\u03b1\u1f76': 11, '\u2e02\u03b8\u03b5\u1f78\u03c2': 1, '\u03ba\u03c4\u03af\u03c3\u03b5\u03c9\u03c2': 1, '\u03b1\u1f50\u03c4\u03bf\u1fd6\u03c2': 1, '\u03b4\u03af\u03ba\u03b1\u03b9\u03bf\u03c2': 1, '\u1f38\u03bf\u03c5\u03b4\u03b1\u03af\u1ff3': 1, '\u03c4\u03b5\u03c4\u03c1\u03b1\u03c0\u03cc\u03b4\u03c9\u03bd': 1, '\u1f00\u0390\u03b4\u03b9\u03bf\u03c2': 1, '\u03ba\u03b1\u03b8\u03bf\u03c1\u1fb6\u03c4\u03b1\u03b9,': 1, '\u1f25': 1, '\u03b8\u03b5\u03bf\u1fe6': 5, '\u03c4\u1f78\u03bd': 1, '\u03b5\u1f30\u03bc\u03af\u00b7': 1, '\u1f00\u03c0\u1f78': 1, '\u03b7\u1f50\u03c7\u03b1\u03c1\u03af\u03c3\u03c4\u03b7\u03c3\u03b1\u03bd,': 1, '\u2e00\u03b5\u1f50\u03b1\u03b3\u03b3\u03ad\u03bb\u03b9\u03bf\u03bd,': 1, '\u1f10\u03bc\u1f72': 1, '\u1f00\u03b4\u03b9\u03ba\u03af\u1fb3': 1, '\u03b1\u1f50\u03c4\u1ff7': 1, '\u1f10\u03bc\u03b1\u03c4\u03b1\u03b9\u03ce\u03b8\u03b7\u03c3\u03b1\u03bd': 1, '\u1f00\u03c3\u03cd\u03bd\u03b5\u03c4\u03bf\u03c2': 1, '\u1f1d\u03bb\u03bb\u03b7\u03c3\u03af\u03bd': 1, '\u1f00\u03c6\u03b8\u03ac\u03c1\u03c4\u03bf\u03c5': 1, '\u03c4\u1ff6\u03bd': 1, '\u03c0\u03c1\u03cc\u03b8\u03c5\u03bc\u03bf\u03bd': 1, '\u1f00\u03c0\u03bf\u03ba\u03b1\u03bb\u03cd\u03c0\u03c4\u03b5\u03c4\u03b1\u03b9': 1, '\u03b4\u03b9\u03b1\u03bb\u03bf\u03b3\u03b9\u03c3\u03bc\u03bf\u1fd6\u03c2': 1, '\u1f10\u03c0\u03b1\u03b9\u03c3\u03c7\u03cd\u03bd\u03bf\u03bc\u03b1\u03b9': 1, '\u1f22': 1, '\u1f24\u03bb\u03bb\u03b1\u03be\u03b1\u03bd': 1, '\u03c4\u1ff7': 1, '\u03c4\u1f78': 4, '\u03bd\u03bf\u03bf\u03cd\u03bc\u03b5\u03bd\u03b1': 1, '\u1f40\u03c6\u03b5\u03b9\u03bb\u03ad\u03c4\u03b7\u03c2': 1, '\u03c0\u03bf\u03b9\u03ae\u03bc\u03b1\u03c3\u03b9\u03bd': 1, '\u03ba\u03b1\u03c1\u03b4\u03af\u03b1\u00b7': 1, '\u1f10\u03c3\u03c4\u03b9\u03bd': 2, '\u03b2\u03b1\u03c1\u03b2\u03ac\u03c1\u03bf\u03b9\u03c2,': 1, '\u03bf\u1f55\u03c4\u03c9\u03c2': 1, '\u03c4\u1f70': 1, '\u03b1\u1f50\u03c4\u03bf\u1fd6\u03c2,': 1, '\u1f10\u03bd': 6, '\u1f08\u03c0\u03bf\u03ba\u03b1\u03bb\u03cd\u03c0\u03c4\u03b5\u03c4\u03b1\u03b9': 1, '\u03ba\u03b1\u03c4\u2019': 1, '\u03b3\u1f70\u03c1\u2e03': 1, '\u1f10\u03c3\u03ba\u03bf\u03c4\u03af\u03c3\u03b8\u03b7': 1, '\u03c0\u03b1\u03bd\u03c4\u1f76': 1, '\u1f00\u03b4\u03b9\u03ba\u03af\u03b1\u03bd': 1, '\u03b5\u1f30\u03c2': 3, '\u1f41': 1, '\u1f00\u03bd\u03b1\u03c0\u03bf\u03bb\u03bf\u03b3\u03ae\u03c4\u03bf\u03c5\u03c2,': 1, '\u1f21': 1, '\u039f\u1f50': 1, '\u03c4\u03b5': 4, '\u1f10\u03b4\u03cc\u03be\u03b1\u03c3\u03b1\u03bd': 1, '\u1f10\u03c6\u03b1\u03bd\u03ad\u03c1\u03c9\u03c3\u03b5\u03bd.': 1, '\u03b4\u1f72': 1, '\u03c4\u03bf\u1fd6\u03c2': 3, '\u1f00\u03bd\u03b8\u03c1\u03ce\u03c0\u03c9\u03bd': 1, '\u1f61\u03c2': 1, '\u03ba\u03b1\u03b8\u1f7c\u03c2': 1, '\u03c0\u1fb6\u03c3\u03b1\u03bd': 1, '\u1f00\u03bb\u03bb\u1f70': 1, '\u03b5\u1f36\u03bd\u03b1\u03b9': 2, '\u1f00\u03cc\u03c1\u03b1\u03c4\u03b1': 1, '\u03b5\u1f50\u03b1\u03b3\u03b3\u03b5\u03bb\u03af\u03c3\u03b1\u03c3\u03b8\u03b1\u03b9.': 1, '\u03b3\u03bd\u03c9\u03c3\u03c4\u1f78\u03bd': 1, '\u03b8\u03b5\u03b9\u03cc\u03c4\u03b7\u03c2,': 1, '\u03c3\u03c9\u03c4\u03b7\u03c1\u03af\u03b1\u03bd': 1, '\u03bf\u1f50\u03c1\u03b1\u03bd\u03bf\u1fe6': 1, '\u03c3\u03bf\u03c6\u03bf\u1fd6\u03c2': 1, '\u03c6\u03b8\u03b1\u03c1\u03c4\u03bf\u1fe6': 1, '\u03b8\u03b5\u1f78\u03bd': 2, '\u03b4\u03b9\u03cc\u03c4\u03b9': 2, '\u03b1\u1f50\u03c4\u03bf\u1fe6': 2, '\u03b1\u1f50\u03c4\u1ff6\u03bd': 2, '\u03b3\u1f70\u03c1': 5, '\u03c3\u03bf\u03c6\u03bf\u1f76': 1, '\u03c6\u03b1\u03bd\u03b5\u03c1\u03cc\u03bd': 1, '\u1f00\u03c0\u2019': 1, '\u1f40\u03c1\u03b3\u1f74': 1, '\u03c4\u1f74\u03bd': 2, '\u03c0\u03af\u03c3\u03c4\u03b5\u03c9\u03c2': 2, '\u03ba\u03b1\u03c4\u03b5\u03c7\u03cc\u03bd\u03c4\u03c9\u03bd,': 1, '\u03b4\u03cc\u03be\u03b1\u03bd': 1, '\u03b1\u1f50\u03c4\u03bf\u1f7a\u03c2': 1, '\u1f00\u03bd\u03b8\u03c1\u03ce\u03c0\u03bf\u03c5': 1, '\u1f11\u03c1\u03c0\u03b5\u03c4\u1ff6\u03bd.': 1, '\u03b3\u03ad\u03b3\u03c1\u03b1\u03c0\u03c4\u03b1\u03b9\u00b7': 1, '\u1f49': 1, '\u1f00\u03bb\u03ae\u03b8\u03b5\u03b9\u03b1\u03bd': 1, '\u03b6\u03ae\u03c3\u03b5\u03c4\u03b1\u03b9.': 1, '\u03b4\u03b9\u03ba\u03b1\u03b9\u03bf\u03c3\u03cd\u03bd\u03b7': 1, '\u1f00\u03c3\u03ad\u03b2\u03b5\u03b9\u03b1\u03bd': 1, '\u03c6\u03ac\u03c3\u03ba\u03bf\u03bd\u03c4\u03b5\u03c2': 1, '\u03b4\u03cd\u03bd\u03b1\u03bc\u03b9\u03c2': 2, '\u03c4\u03bf\u1fe6': 2, '\u1f51\u03bc\u1fd6\u03bd': 1, '\u1f10\u03c0\u1f76': 1, '\u03c0\u03b9\u03c3\u03c4\u03b5\u03cd\u03bf\u03bd\u03c4\u03b9,': 1, '\u03c0\u03c1\u1ff6\u03c4\u03bf\u03bd': 1, '\u1f1d\u03bb\u03bb\u03b7\u03bd\u03b9\u00b7': 1, '\u1f00\u03bd\u03bf\u03ae\u03c4\u03bf\u03b9\u03c2': 1, '\u03c0\u03af\u03c3\u03c4\u03b9\u03bd,': 1, '\u03b5\u1f30\u03ba\u03cc\u03bd\u03bf\u03c2': 1, '\u1fec\u03ce\u03bc\u1fc3': 1, '\u03bf\u1f50\u03c7': 1, '\u03c0\u03b5\u03c4\u03b5\u03b9\u03bd\u1ff6\u03bd': 1, '\u1f10\u03bc\u03c9\u03c1\u03ac\u03bd\u03b8\u03b7\u03c3\u03b1\u03bd,': 1, '\u1f10\u03ba': 2, '\u03ba\u03cc\u03c3\u03bc\u03bf\u03c5': 1, '\u03b3\u03bd\u03cc\u03bd\u03c4\u03b5\u03c2': 1, '\u1f41\u03bc\u03bf\u03b9\u03ce\u03bc\u03b1\u03c4\u03b9': 1}\n",
        "\u03b3\u1f70\u03c1\u2e03 occurs 1 times.\n"
       ]
      }
     ],
     "prompt_number": 48
    },
    {
     "cell_type": "markdown",
     "metadata": {},
     "source": [
      "---"
     ]
    },
    {
     "cell_type": "heading",
     "level": 4,
     "metadata": {},
     "source": [
      "Quiz!"
     ]
    },
    {
     "cell_type": "markdown",
     "metadata": {},
     "source": [
      "Let's put some of the stuff we learnt so far together. What we want you to do is to read into Python the file `data/romans_gk.txt`, convert it to a list of words and assign to the variable `theou_count` how often the word *\u03b8\u03b5\u03bf\u1fe6* occurs in the text."
     ]
    },
    {
     "cell_type": "code",
     "collapsed": false,
     "input": [
      "# insert your code here\n",
      "infile = open('data/romans_gk.txt')\n",
      "text = infile.read()\n",
      "infile.close()\n",
      "words = text.split()\n",
      "freq_dist = counter(words)\n",
      "theou_count = freq_dist['\u03b8\u03b5\u03bf\u1fe6']\n",
      "#theou_count = 0\n",
      "#theou_count = words.count('\u03b8\u03b5\u03bf\u1fe6')\n",
      "# The following test should print True if your code is correct \n",
      "print(theou_count == 44)"
     ],
     "language": "python",
     "metadata": {},
     "outputs": [
      {
       "output_type": "stream",
       "stream": "stdout",
       "text": [
        "True\n"
       ]
      }
     ],
     "prompt_number": 49
    },
    {
     "cell_type": "markdown",
     "metadata": {},
     "source": [
      "---"
     ]
    },
    {
     "cell_type": "heading",
     "level": 3,
     "metadata": {},
     "source": [
      "A count function (take 2)"
     ]
    },
    {
     "cell_type": "markdown",
     "metadata": {},
     "source": [
      "Let's train our function writing skills a little more. We are going to write another counting function, this time using a slightly different strategy. Recall our function `count_in_list`. It takes as argument a list and the item we want to count in that list. It returns the number of times this item occurs in the list. If we call this function for each unique word in `words`, we obtain a list of frequencies, quite similar to the one we get from the function `counter`. What would happen if we just call the function `count_in_list` on each word in `words`? "
     ]
    },
    {
     "cell_type": "code",
     "collapsed": false,
     "input": [
      "infile = open('data/romans_1:14-23_gk.txt')\n",
      "text = infile.read()\n",
      "infile.close()\n",
      "words = text.split()\n",
      "\n",
      "for word in sorted(words):\n",
      "    print(word, count_in_list(word, words))"
     ],
     "language": "python",
     "metadata": {},
     "outputs": [
      {
       "output_type": "stream",
       "stream": "stdout",
       "text": [
        "\u039f\u1f50 1\n",
        "\u03b1\u1f50\u03c4\u03bf\u1f7a\u03c2 1\n",
        "\u03b1\u1f50\u03c4\u03bf\u1fd6\u03c2 1\n",
        "\u03b1\u1f50\u03c4\u03bf\u1fd6\u03c2, 1\n",
        "\u03b1\u1f50\u03c4\u03bf\u1fe6 2\n",
        "\u03b1\u1f50\u03c4\u03bf\u1fe6 2\n",
        "\u03b1\u1f50\u03c4\u1ff6\u03bd 2\n",
        "\u03b1\u1f50\u03c4\u1ff6\u03bd 2\n",
        "\u03b1\u1f50\u03c4\u1ff7 1\n",
        "\u03b2\u03b1\u03c1\u03b2\u03ac\u03c1\u03bf\u03b9\u03c2, 1\n",
        "\u03b3\u03ad\u03b3\u03c1\u03b1\u03c0\u03c4\u03b1\u03b9\u00b7 1\n",
        "\u03b3\u03bd\u03c9\u03c3\u03c4\u1f78\u03bd 1\n",
        "\u03b3\u03bd\u03cc\u03bd\u03c4\u03b5\u03c2 1\n",
        "\u03b3\u1f70\u03c1 5\n",
        "\u03b3\u1f70\u03c1 5\n",
        "\u03b3\u1f70\u03c1 5\n",
        "\u03b3\u1f70\u03c1 5\n",
        "\u03b3\u1f70\u03c1 5\n",
        "\u03b3\u1f70\u03c1\u2e03 1\n",
        "\u03b4\u03af\u03ba\u03b1\u03b9\u03bf\u03c2 1\n",
        "\u03b4\u03b9\u03b1\u03bb\u03bf\u03b3\u03b9\u03c3\u03bc\u03bf\u1fd6\u03c2 1\n",
        "\u03b4\u03b9\u03ba\u03b1\u03b9\u03bf\u03c3\u03cd\u03bd\u03b7 1\n",
        "\u03b4\u03b9\u03cc\u03c4\u03b9 2\n",
        "\u03b4\u03b9\u03cc\u03c4\u03b9 2\n",
        "\u03b4\u03cc\u03be\u03b1\u03bd 1\n",
        "\u03b4\u03cd\u03bd\u03b1\u03bc\u03b9\u03c2 2\n",
        "\u03b4\u03cd\u03bd\u03b1\u03bc\u03b9\u03c2 2\n",
        "\u03b4\u1f72 1\n",
        "\u03b5\u1f30\u03ba\u03cc\u03bd\u03bf\u03c2 1\n",
        "\u03b5\u1f30\u03bc\u03af\u00b7 1\n",
        "\u03b5\u1f30\u03c2 3\n",
        "\u03b5\u1f30\u03c2 3\n",
        "\u03b5\u1f30\u03c2 3\n",
        "\u03b5\u1f36\u03bd\u03b1\u03b9 2\n",
        "\u03b5\u1f36\u03bd\u03b1\u03b9 2\n",
        "\u03b5\u1f50\u03b1\u03b3\u03b3\u03b5\u03bb\u03af\u03c3\u03b1\u03c3\u03b8\u03b1\u03b9. 1\n",
        "\u03b6\u03ae\u03c3\u03b5\u03c4\u03b1\u03b9. 1\n",
        "\u03b7\u1f50\u03c7\u03b1\u03c1\u03af\u03c3\u03c4\u03b7\u03c3\u03b1\u03bd, 1\n",
        "\u03b8\u03b5\u03b9\u03cc\u03c4\u03b7\u03c2, 1\n",
        "\u03b8\u03b5\u03bf\u1fe6 5\n",
        "\u03b8\u03b5\u03bf\u1fe6 5\n",
        "\u03b8\u03b5\u03bf\u1fe6 5\n",
        "\u03b8\u03b5\u03bf\u1fe6 5\n",
        "\u03b8\u03b5\u03bf\u1fe6 5\n",
        "\u03b8\u03b5\u1f78\u03bd 2\n",
        "\u03b8\u03b5\u1f78\u03bd 2\n",
        "\u03ba\u03b1\u03b8\u03bf\u03c1\u1fb6\u03c4\u03b1\u03b9, 1\n",
        "\u03ba\u03b1\u03b8\u1f7c\u03c2 1\n",
        "\u03ba\u03b1\u03c1\u03b4\u03af\u03b1\u00b7 1\n",
        "\u03ba\u03b1\u03c4\u03b5\u03c7\u03cc\u03bd\u03c4\u03c9\u03bd, 1\n",
        "\u03ba\u03b1\u03c4\u2019 1\n",
        "\u03ba\u03b1\u1f76 11\n",
        "\u03ba\u03b1\u1f76 11\n",
        "\u03ba\u03b1\u1f76 11\n",
        "\u03ba\u03b1\u1f76 11\n",
        "\u03ba\u03b1\u1f76 11\n",
        "\u03ba\u03b1\u1f76 11\n",
        "\u03ba\u03b1\u1f76 11\n",
        "\u03ba\u03b1\u1f76 11\n",
        "\u03ba\u03b1\u1f76 11\n",
        "\u03ba\u03b1\u1f76 11\n",
        "\u03ba\u03b1\u1f76 11\n",
        "\u03ba\u03c4\u03af\u03c3\u03b5\u03c9\u03c2 1\n",
        "\u03ba\u03cc\u03c3\u03bc\u03bf\u03c5 1\n",
        "\u03bd\u03bf\u03bf\u03cd\u03bc\u03b5\u03bd\u03b1 1\n",
        "\u03bf\u1f50\u03c1\u03b1\u03bd\u03bf\u1fe6 1\n",
        "\u03bf\u1f50\u03c7 1\n",
        "\u03bf\u1f55\u03c4\u03c9\u03c2 1\n",
        "\u03c0\u03af\u03c3\u03c4\u03b5\u03c9\u03c2 2\n",
        "\u03c0\u03af\u03c3\u03c4\u03b5\u03c9\u03c2 2\n",
        "\u03c0\u03af\u03c3\u03c4\u03b9\u03bd, 1\n",
        "\u03c0\u03b1\u03bd\u03c4\u1f76 1\n",
        "\u03c0\u03b5\u03c4\u03b5\u03b9\u03bd\u1ff6\u03bd 1\n",
        "\u03c0\u03b9\u03c3\u03c4\u03b5\u03cd\u03bf\u03bd\u03c4\u03b9, 1\n",
        "\u03c0\u03bf\u03b9\u03ae\u03bc\u03b1\u03c3\u03b9\u03bd 1\n",
        "\u03c0\u03c1\u03cc\u03b8\u03c5\u03bc\u03bf\u03bd 1\n",
        "\u03c0\u03c1\u1ff6\u03c4\u03bf\u03bd 1\n",
        "\u03c0\u1fb6\u03c3\u03b1\u03bd 1\n",
        "\u03c3\u03bf\u03c6\u03bf\u1f76 1\n",
        "\u03c3\u03bf\u03c6\u03bf\u1fd6\u03c2 1\n",
        "\u03c3\u03c9\u03c4\u03b7\u03c1\u03af\u03b1\u03bd 1\n",
        "\u03c4\u03b5 4\n",
        "\u03c4\u03b5 4\n",
        "\u03c4\u03b5 4\n",
        "\u03c4\u03b5 4\n",
        "\u03c4\u03b5\u03c4\u03c1\u03b1\u03c0\u03cc\u03b4\u03c9\u03bd 1\n",
        "\u03c4\u03bf\u1fd6\u03c2 3\n",
        "\u03c4\u03bf\u1fd6\u03c2 3\n",
        "\u03c4\u03bf\u1fd6\u03c2 3\n",
        "\u03c4\u03bf\u1fe6 2\n",
        "\u03c4\u03bf\u1fe6 2\n",
        "\u03c4\u1f70 1\n",
        "\u03c4\u1f74\u03bd 2\n",
        "\u03c4\u1f74\u03bd 2\n",
        "\u03c4\u1f78 4\n",
        "\u03c4\u1f78 4\n",
        "\u03c4\u1f78 4\n",
        "\u03c4\u1f78 4\n",
        "\u03c4\u1f78\u03bd 1\n",
        "\u03c4\u1ff6\u03bd 1\n",
        "\u03c4\u1ff7 1\n",
        "\u03c6\u03ac\u03c3\u03ba\u03bf\u03bd\u03c4\u03b5\u03c2 1\n",
        "\u03c6\u03b1\u03bd\u03b5\u03c1\u03cc\u03bd 1\n",
        "\u03c6\u03b8\u03b1\u03c1\u03c4\u03bf\u1fe6 1\n",
        "\u1f00\u0390\u03b4\u03b9\u03bf\u03c2 1\n",
        "\u1f00\u03b4\u03b9\u03ba\u03af\u03b1\u03bd 1\n",
        "\u1f00\u03b4\u03b9\u03ba\u03af\u1fb3 1\n",
        "\u1f00\u03bb\u03ae\u03b8\u03b5\u03b9\u03b1\u03bd 1\n",
        "\u1f00\u03bb\u03bb\u1f70 1\n",
        "\u1f00\u03bd\u03b1\u03c0\u03bf\u03bb\u03bf\u03b3\u03ae\u03c4\u03bf\u03c5\u03c2, 1\n",
        "\u1f00\u03bd\u03b8\u03c1\u03ce\u03c0\u03bf\u03c5 1\n",
        "\u1f00\u03bd\u03b8\u03c1\u03ce\u03c0\u03c9\u03bd 1\n",
        "\u1f00\u03bd\u03bf\u03ae\u03c4\u03bf\u03b9\u03c2 1\n",
        "\u1f00\u03c0\u03bf\u03ba\u03b1\u03bb\u03cd\u03c0\u03c4\u03b5\u03c4\u03b1\u03b9 1\n",
        "\u1f00\u03c0\u1f78 1\n",
        "\u1f00\u03c0\u2019 1\n",
        "\u1f00\u03c3\u03ad\u03b2\u03b5\u03b9\u03b1\u03bd 1\n",
        "\u1f00\u03c3\u03cd\u03bd\u03b5\u03c4\u03bf\u03c2 1\n",
        "\u1f00\u03c6\u03b8\u03ac\u03c1\u03c4\u03bf\u03c5 1\n",
        "\u1f00\u03cc\u03c1\u03b1\u03c4\u03b1 1\n",
        "\u1f08\u03c0\u03bf\u03ba\u03b1\u03bb\u03cd\u03c0\u03c4\u03b5\u03c4\u03b1\u03b9 1\n",
        "\u1f10\u03b4\u03cc\u03be\u03b1\u03c3\u03b1\u03bd 1\n",
        "\u1f10\u03ba 2\n",
        "\u1f10\u03ba 2\n",
        "\u1f10\u03bc\u03b1\u03c4\u03b1\u03b9\u03ce\u03b8\u03b7\u03c3\u03b1\u03bd 1\n",
        "\u1f10\u03bc\u03c9\u03c1\u03ac\u03bd\u03b8\u03b7\u03c3\u03b1\u03bd, 1\n",
        "\u1f10\u03bc\u1f72 1\n",
        "\u1f10\u03bd 6\n",
        "\u1f10\u03bd 6\n",
        "\u1f10\u03bd 6\n",
        "\u1f10\u03bd 6\n",
        "\u1f10\u03bd 6\n",
        "\u1f10\u03bd 6\n",
        "\u1f10\u03c0\u03b1\u03b9\u03c3\u03c7\u03cd\u03bd\u03bf\u03bc\u03b1\u03b9 1\n",
        "\u1f10\u03c0\u1f76 1\n",
        "\u1f10\u03c3\u03ba\u03bf\u03c4\u03af\u03c3\u03b8\u03b7 1\n",
        "\u1f10\u03c3\u03c4\u03b9\u03bd 2\n",
        "\u1f10\u03c3\u03c4\u03b9\u03bd 2\n",
        "\u1f10\u03c6\u03b1\u03bd\u03ad\u03c1\u03c9\u03c3\u03b5\u03bd. 1\n",
        "\u1f11\u03c1\u03c0\u03b5\u03c4\u1ff6\u03bd. 1\n",
        "\u1f1d\u03bb\u03bb\u03b7\u03bd\u03b9\u00b7 1\n",
        "\u1f1d\u03bb\u03bb\u03b7\u03c3\u03af\u03bd 1\n",
        "\u1f21 1\n",
        "\u1f22 1\n",
        "\u1f24\u03bb\u03bb\u03b1\u03be\u03b1\u03bd 1\n",
        "\u1f25 1\n",
        "\u1f38\u03bf\u03c5\u03b4\u03b1\u03af\u1ff3 1\n",
        "\u1f40\u03c1\u03b3\u1f74 1\n",
        "\u1f40\u03c6\u03b5\u03b9\u03bb\u03ad\u03c4\u03b7\u03c2 1\n",
        "\u1f41 1\n",
        "\u1f41\u03bc\u03bf\u03b9\u03ce\u03bc\u03b1\u03c4\u03b9 1\n",
        "\u1f49 1\n",
        "\u1f51\u03bc\u1fd6\u03bd 1\n",
        "\u1f61\u03c2 1\n",
        "\u1fec\u03ce\u03bc\u1fc3 1\n",
        "\u2e00\u03b5\u1f50\u03b1\u03b3\u03b3\u03ad\u03bb\u03b9\u03bf\u03bd, 1\n",
        "\u2e02\u03b8\u03b5\u1f78\u03c2 1\n"
       ]
      }
     ],
     "prompt_number": 50
    },
    {
     "cell_type": "markdown",
     "metadata": {},
     "source": [
      "As you can see, we obtain the frequency of each word token in `words`, where we would like to have it only for unique word forms. The challenge is thus to come up with a way to convert our list of words into a structure with solely unique words. For this Python provides a convenient data structure called `set`. It takes as argument some iterable (e.g. a list) and returns a new object containing only unique items:"
     ]
    },
    {
     "cell_type": "code",
     "collapsed": false,
     "input": [
      "x = ['a', 'a', 'b', 'b', 'c', 'c', 'c']\n",
      "unique_x = set(x)\n",
      "print(unique_x)"
     ],
     "language": "python",
     "metadata": {},
     "outputs": [
      {
       "output_type": "stream",
       "stream": "stdout",
       "text": [
        "{'a', 'b', 'c'}\n"
       ]
      }
     ],
     "prompt_number": 51
    },
    {
     "cell_type": "markdown",
     "metadata": {},
     "source": [
      "Using `set` we can iterate over all unique words in our word list and print the corresponding frequency:"
     ]
    },
    {
     "cell_type": "code",
     "collapsed": true,
     "input": [
      "unique_words = set(words)\n",
      "for word in sorted(unique_words):\n",
      "    print(word, count_in_list(word, words))"
     ],
     "language": "python",
     "metadata": {},
     "outputs": [
      {
       "output_type": "stream",
       "stream": "stdout",
       "text": [
        "\u039f\u1f50 1\n",
        "\u03b1\u1f50\u03c4\u03bf\u1f7a\u03c2 1\n",
        "\u03b1\u1f50\u03c4\u03bf\u1fd6\u03c2 1\n",
        "\u03b1\u1f50\u03c4\u03bf\u1fd6\u03c2, 1\n",
        "\u03b1\u1f50\u03c4\u03bf\u1fe6 2\n",
        "\u03b1\u1f50\u03c4\u1ff6\u03bd 2\n",
        "\u03b1\u1f50\u03c4\u1ff7 1\n",
        "\u03b2\u03b1\u03c1\u03b2\u03ac\u03c1\u03bf\u03b9\u03c2, 1\n",
        "\u03b3\u03ad\u03b3\u03c1\u03b1\u03c0\u03c4\u03b1\u03b9\u00b7 1\n",
        "\u03b3\u03bd\u03c9\u03c3\u03c4\u1f78\u03bd 1\n",
        "\u03b3\u03bd\u03cc\u03bd\u03c4\u03b5\u03c2 1\n",
        "\u03b3\u1f70\u03c1 5\n",
        "\u03b3\u1f70\u03c1\u2e03 1\n",
        "\u03b4\u03af\u03ba\u03b1\u03b9\u03bf\u03c2 1\n",
        "\u03b4\u03b9\u03b1\u03bb\u03bf\u03b3\u03b9\u03c3\u03bc\u03bf\u1fd6\u03c2 1\n",
        "\u03b4\u03b9\u03ba\u03b1\u03b9\u03bf\u03c3\u03cd\u03bd\u03b7 1\n",
        "\u03b4\u03b9\u03cc\u03c4\u03b9 2\n",
        "\u03b4\u03cc\u03be\u03b1\u03bd 1\n",
        "\u03b4\u03cd\u03bd\u03b1\u03bc\u03b9\u03c2 2\n",
        "\u03b4\u1f72 1\n",
        "\u03b5\u1f30\u03ba\u03cc\u03bd\u03bf\u03c2 1\n",
        "\u03b5\u1f30\u03bc\u03af\u00b7 1\n",
        "\u03b5\u1f30\u03c2 3\n",
        "\u03b5\u1f36\u03bd\u03b1\u03b9 2\n",
        "\u03b5\u1f50\u03b1\u03b3\u03b3\u03b5\u03bb\u03af\u03c3\u03b1\u03c3\u03b8\u03b1\u03b9. 1\n",
        "\u03b6\u03ae\u03c3\u03b5\u03c4\u03b1\u03b9. 1\n",
        "\u03b7\u1f50\u03c7\u03b1\u03c1\u03af\u03c3\u03c4\u03b7\u03c3\u03b1\u03bd, 1\n",
        "\u03b8\u03b5\u03b9\u03cc\u03c4\u03b7\u03c2, 1\n",
        "\u03b8\u03b5\u03bf\u1fe6 5\n",
        "\u03b8\u03b5\u1f78\u03bd 2\n",
        "\u03ba\u03b1\u03b8\u03bf\u03c1\u1fb6\u03c4\u03b1\u03b9, 1\n",
        "\u03ba\u03b1\u03b8\u1f7c\u03c2 1\n",
        "\u03ba\u03b1\u03c1\u03b4\u03af\u03b1\u00b7 1\n",
        "\u03ba\u03b1\u03c4\u03b5\u03c7\u03cc\u03bd\u03c4\u03c9\u03bd, 1\n",
        "\u03ba\u03b1\u03c4\u2019 1\n",
        "\u03ba\u03b1\u1f76 11\n",
        "\u03ba\u03c4\u03af\u03c3\u03b5\u03c9\u03c2 1\n",
        "\u03ba\u03cc\u03c3\u03bc\u03bf\u03c5 1\n",
        "\u03bd\u03bf\u03bf\u03cd\u03bc\u03b5\u03bd\u03b1 1\n",
        "\u03bf\u1f50\u03c1\u03b1\u03bd\u03bf\u1fe6 1\n",
        "\u03bf\u1f50\u03c7 1\n",
        "\u03bf\u1f55\u03c4\u03c9\u03c2 1\n",
        "\u03c0\u03af\u03c3\u03c4\u03b5\u03c9\u03c2 2\n",
        "\u03c0\u03af\u03c3\u03c4\u03b9\u03bd, 1\n",
        "\u03c0\u03b1\u03bd\u03c4\u1f76 1\n",
        "\u03c0\u03b5\u03c4\u03b5\u03b9\u03bd\u1ff6\u03bd 1\n",
        "\u03c0\u03b9\u03c3\u03c4\u03b5\u03cd\u03bf\u03bd\u03c4\u03b9, 1\n",
        "\u03c0\u03bf\u03b9\u03ae\u03bc\u03b1\u03c3\u03b9\u03bd 1\n",
        "\u03c0\u03c1\u03cc\u03b8\u03c5\u03bc\u03bf\u03bd 1\n",
        "\u03c0\u03c1\u1ff6\u03c4\u03bf\u03bd 1\n",
        "\u03c0\u1fb6\u03c3\u03b1\u03bd 1\n",
        "\u03c3\u03bf\u03c6\u03bf\u1f76 1\n",
        "\u03c3\u03bf\u03c6\u03bf\u1fd6\u03c2 1\n",
        "\u03c3\u03c9\u03c4\u03b7\u03c1\u03af\u03b1\u03bd 1\n",
        "\u03c4\u03b5 4\n",
        "\u03c4\u03b5\u03c4\u03c1\u03b1\u03c0\u03cc\u03b4\u03c9\u03bd 1\n",
        "\u03c4\u03bf\u1fd6\u03c2 3\n",
        "\u03c4\u03bf\u1fe6 2\n",
        "\u03c4\u1f70 1\n",
        "\u03c4\u1f74\u03bd 2\n",
        "\u03c4\u1f78 4\n",
        "\u03c4\u1f78\u03bd 1\n",
        "\u03c4\u1ff6\u03bd 1\n",
        "\u03c4\u1ff7 1\n",
        "\u03c6\u03ac\u03c3\u03ba\u03bf\u03bd\u03c4\u03b5\u03c2 1\n",
        "\u03c6\u03b1\u03bd\u03b5\u03c1\u03cc\u03bd 1\n",
        "\u03c6\u03b8\u03b1\u03c1\u03c4\u03bf\u1fe6 1\n",
        "\u1f00\u0390\u03b4\u03b9\u03bf\u03c2 1\n",
        "\u1f00\u03b4\u03b9\u03ba\u03af\u03b1\u03bd 1\n",
        "\u1f00\u03b4\u03b9\u03ba\u03af\u1fb3 1\n",
        "\u1f00\u03bb\u03ae\u03b8\u03b5\u03b9\u03b1\u03bd 1\n",
        "\u1f00\u03bb\u03bb\u1f70 1\n",
        "\u1f00\u03bd\u03b1\u03c0\u03bf\u03bb\u03bf\u03b3\u03ae\u03c4\u03bf\u03c5\u03c2, 1\n",
        "\u1f00\u03bd\u03b8\u03c1\u03ce\u03c0\u03bf\u03c5 1\n",
        "\u1f00\u03bd\u03b8\u03c1\u03ce\u03c0\u03c9\u03bd 1\n",
        "\u1f00\u03bd\u03bf\u03ae\u03c4\u03bf\u03b9\u03c2 1\n",
        "\u1f00\u03c0\u03bf\u03ba\u03b1\u03bb\u03cd\u03c0\u03c4\u03b5\u03c4\u03b1\u03b9 1\n",
        "\u1f00\u03c0\u1f78 1\n",
        "\u1f00\u03c0\u2019 1\n",
        "\u1f00\u03c3\u03ad\u03b2\u03b5\u03b9\u03b1\u03bd 1\n",
        "\u1f00\u03c3\u03cd\u03bd\u03b5\u03c4\u03bf\u03c2 1\n",
        "\u1f00\u03c6\u03b8\u03ac\u03c1\u03c4\u03bf\u03c5 1\n",
        "\u1f00\u03cc\u03c1\u03b1\u03c4\u03b1 1\n",
        "\u1f08\u03c0\u03bf\u03ba\u03b1\u03bb\u03cd\u03c0\u03c4\u03b5\u03c4\u03b1\u03b9 1\n",
        "\u1f10\u03b4\u03cc\u03be\u03b1\u03c3\u03b1\u03bd 1\n",
        "\u1f10\u03ba 2\n",
        "\u1f10\u03bc\u03b1\u03c4\u03b1\u03b9\u03ce\u03b8\u03b7\u03c3\u03b1\u03bd 1\n",
        "\u1f10\u03bc\u03c9\u03c1\u03ac\u03bd\u03b8\u03b7\u03c3\u03b1\u03bd, 1\n",
        "\u1f10\u03bc\u1f72 1\n",
        "\u1f10\u03bd 6\n",
        "\u1f10\u03c0\u03b1\u03b9\u03c3\u03c7\u03cd\u03bd\u03bf\u03bc\u03b1\u03b9 1\n",
        "\u1f10\u03c0\u1f76 1\n",
        "\u1f10\u03c3\u03ba\u03bf\u03c4\u03af\u03c3\u03b8\u03b7 1\n",
        "\u1f10\u03c3\u03c4\u03b9\u03bd 2\n",
        "\u1f10\u03c6\u03b1\u03bd\u03ad\u03c1\u03c9\u03c3\u03b5\u03bd. 1\n",
        "\u1f11\u03c1\u03c0\u03b5\u03c4\u1ff6\u03bd. 1\n",
        "\u1f1d\u03bb\u03bb\u03b7\u03bd\u03b9\u00b7 1\n",
        "\u1f1d\u03bb\u03bb\u03b7\u03c3\u03af\u03bd 1\n",
        "\u1f21 1\n",
        "\u1f22 1\n",
        "\u1f24\u03bb\u03bb\u03b1\u03be\u03b1\u03bd 1\n",
        "\u1f25 1\n",
        "\u1f38\u03bf\u03c5\u03b4\u03b1\u03af\u1ff3 1\n",
        "\u1f40\u03c1\u03b3\u1f74 1\n",
        "\u1f40\u03c6\u03b5\u03b9\u03bb\u03ad\u03c4\u03b7\u03c2 1\n",
        "\u1f41 1\n",
        "\u1f41\u03bc\u03bf\u03b9\u03ce\u03bc\u03b1\u03c4\u03b9 1\n",
        "\u1f49 1\n",
        "\u1f51\u03bc\u1fd6\u03bd 1\n",
        "\u1f61\u03c2 1\n",
        "\u1fec\u03ce\u03bc\u1fc3 1\n",
        "\u2e00\u03b5\u1f50\u03b1\u03b3\u03b3\u03ad\u03bb\u03b9\u03bf\u03bd, 1\n",
        "\u2e02\u03b8\u03b5\u1f78\u03c2 1\n"
       ]
      }
     ],
     "prompt_number": 52
    },
    {
     "cell_type": "markdown",
     "metadata": {},
     "source": [
      "We wrap the lines of code above into the function `counter2`:"
     ]
    },
    {
     "cell_type": "code",
     "collapsed": false,
     "input": [
      "def counter2(list_to_search):\n",
      "    unique_words = set(list_to_search)\n",
      "    for word in unique_words:\n",
      "        print(word, count_in_list(word, list_to_search))"
     ],
     "language": "python",
     "metadata": {},
     "outputs": [],
     "prompt_number": 53
    },
    {
     "cell_type": "markdown",
     "metadata": {},
     "source": [
      "A final check to see whether our function behaves correctly:"
     ]
    },
    {
     "cell_type": "code",
     "collapsed": false,
     "input": [
      "counter2(words)"
     ],
     "language": "python",
     "metadata": {},
     "outputs": [
      {
       "output_type": "stream",
       "stream": "stdout",
       "text": [
        "\u03ba\u03b1\u1f76 11\n",
        "\u03b3\u03bd\u03cc\u03bd\u03c4\u03b5\u03c2 1\n",
        "\u1f25 1\n",
        "\u03b8\u03b5\u03bf\u1fe6 5\n",
        "\u03b5\u1f30\u03bc\u03af\u00b7 1\n",
        "\u2e00\u03b5\u1f50\u03b1\u03b3\u03b3\u03ad\u03bb\u03b9\u03bf\u03bd, 1\n",
        "\u1f00\u03b4\u03b9\u03ba\u03af\u1fb3 1\n",
        "\u03ba\u03c4\u03af\u03c3\u03b5\u03c9\u03c2 1\n",
        "\u1f00\u03c3\u03cd\u03bd\u03b5\u03c4\u03bf\u03c2 1\n",
        "\u1f1d\u03bb\u03bb\u03b7\u03c3\u03af\u03bd 1\n",
        "\u03c4\u1ff6\u03bd 1\n",
        "\u1f10\u03c0\u03b1\u03b9\u03c3\u03c7\u03cd\u03bd\u03bf\u03bc\u03b1\u03b9 1\n",
        "\u1f10\u03bc\u03b1\u03c4\u03b1\u03b9\u03ce\u03b8\u03b7\u03c3\u03b1\u03bd 1\n",
        "\u1f24\u03bb\u03bb\u03b1\u03be\u03b1\u03bd 1\n",
        "\u03c4\u1ff7 1\n",
        "\u03bd\u03bf\u03bf\u03cd\u03bc\u03b5\u03bd\u03b1 1\n",
        "\u1f40\u03c6\u03b5\u03b9\u03bb\u03ad\u03c4\u03b7\u03c2 1\n",
        "\u1f10\u03c3\u03c4\u03b9\u03bd 2\n",
        "\u03bf\u1f55\u03c4\u03c9\u03c2 1\n",
        "\u03c4\u1f70 1\n",
        "\u1f00\u0390\u03b4\u03b9\u03bf\u03c2 1\n",
        "\u1f08\u03c0\u03bf\u03ba\u03b1\u03bb\u03cd\u03c0\u03c4\u03b5\u03c4\u03b1\u03b9 1\n",
        "\u03ba\u03b1\u03c4\u2019 1\n",
        "\u1f10\u03c3\u03ba\u03bf\u03c4\u03af\u03c3\u03b8\u03b7 1\n",
        "\u1f21 1\n",
        "\u03c0\u03b9\u03c3\u03c4\u03b5\u03cd\u03bf\u03bd\u03c4\u03b9, 1\n",
        "\u1f10\u03c6\u03b1\u03bd\u03ad\u03c1\u03c9\u03c3\u03b5\u03bd. 1\n",
        "\u03b7\u1f50\u03c7\u03b1\u03c1\u03af\u03c3\u03c4\u03b7\u03c3\u03b1\u03bd, 1\n",
        "\u03b5\u1f36\u03bd\u03b1\u03b9 2\n",
        "\u1f00\u03cc\u03c1\u03b1\u03c4\u03b1 1\n",
        "\u03b5\u1f50\u03b1\u03b3\u03b3\u03b5\u03bb\u03af\u03c3\u03b1\u03c3\u03b8\u03b1\u03b9. 1\n",
        "\u03b3\u03bd\u03c9\u03c3\u03c4\u1f78\u03bd 1\n",
        "\u03b8\u03b5\u1f78\u03bd 2\n",
        "\u03b4\u03b9\u03cc\u03c4\u03b9 2\n",
        "\u03b1\u1f50\u03c4\u03bf\u1fe6 2\n",
        "\u03b1\u1f50\u03c4\u1ff6\u03bd 2\n",
        "\u03ba\u03b1\u03c4\u03b5\u03c7\u03cc\u03bd\u03c4\u03c9\u03bd, 1\n",
        "\u1f49 1\n",
        "\u03b4\u03b9\u03ba\u03b1\u03b9\u03bf\u03c3\u03cd\u03bd\u03b7 1\n",
        "\u1f00\u03c3\u03ad\u03b2\u03b5\u03b9\u03b1\u03bd 1\n",
        "\u03c0\u03b5\u03c4\u03b5\u03b9\u03bd\u1ff6\u03bd 1\n",
        "\u1f10\u03bc\u1f72 1\n",
        "\u03c4\u03bf\u1fe6 2\n",
        "\u1f10\u03c0\u1f76 1\n",
        "\u1f00\u03bd\u03bf\u03ae\u03c4\u03bf\u03b9\u03c2 1\n",
        "\u03c0\u03af\u03c3\u03c4\u03b9\u03bd, 1\n",
        "\u03b5\u1f30\u03ba\u03cc\u03bd\u03bf\u03c2 1\n",
        "\u03bf\u1f50\u03c7 1\n",
        "\u2e02\u03b8\u03b5\u1f78\u03c2 1\n",
        "\u03b1\u1f50\u03c4\u03bf\u1fd6\u03c2 1\n",
        "\u03b4\u03af\u03ba\u03b1\u03b9\u03bf\u03c2 1\n",
        "\u03c0\u03c1\u03cc\u03b8\u03c5\u03bc\u03bf\u03bd 1\n",
        "\u1f38\u03bf\u03c5\u03b4\u03b1\u03af\u1ff3 1\n",
        "\u03ba\u03b1\u03b8\u1f7c\u03c2 1\n",
        "\u03ba\u03b1\u03b8\u03bf\u03c1\u1fb6\u03c4\u03b1\u03b9, 1\n",
        "\u03c4\u1f78\u03bd 1\n",
        "\u1f00\u03c0\u1f78 1\n",
        "\u03c3\u03bf\u03c6\u03bf\u1f76 1\n",
        "\u03b1\u1f50\u03c4\u1ff7 1\n",
        "\u1f00\u03c6\u03b8\u03ac\u03c1\u03c4\u03bf\u03c5 1\n",
        "\u1f00\u03c0\u03bf\u03ba\u03b1\u03bb\u03cd\u03c0\u03c4\u03b5\u03c4\u03b1\u03b9 1\n",
        "\u03b4\u03b9\u03b1\u03bb\u03bf\u03b3\u03b9\u03c3\u03bc\u03bf\u1fd6\u03c2 1\n",
        "\u03c0\u03bf\u03b9\u03ae\u03bc\u03b1\u03c3\u03b9\u03bd 1\n",
        "\u03ba\u03b1\u03c1\u03b4\u03af\u03b1\u00b7 1\n",
        "\u03b2\u03b1\u03c1\u03b2\u03ac\u03c1\u03bf\u03b9\u03c2, 1\n",
        "\u03b1\u1f50\u03c4\u03bf\u1fd6\u03c2, 1\n",
        "\u1f10\u03bd 6\n",
        "\u1f22 1\n",
        "\u03c4\u1f78 4\n",
        "\u03c0\u03b1\u03bd\u03c4\u1f76 1\n",
        "\u1f00\u03b4\u03b9\u03ba\u03af\u03b1\u03bd 1\n",
        "\u03b5\u1f30\u03c2 3\n",
        "\u1f41 1\n",
        "\u1f00\u03bd\u03b1\u03c0\u03bf\u03bb\u03bf\u03b3\u03ae\u03c4\u03bf\u03c5\u03c2, 1\n",
        "\u039f\u1f50 1\n",
        "\u03c4\u03b5 4\n",
        "\u1f10\u03b4\u03cc\u03be\u03b1\u03c3\u03b1\u03bd 1\n",
        "\u03c4\u03bf\u1fd6\u03c2 3\n",
        "\u1f00\u03bd\u03b8\u03c1\u03ce\u03c0\u03c9\u03bd 1\n",
        "\u1f61\u03c2 1\n",
        "\u03c0\u1fb6\u03c3\u03b1\u03bd 1\n",
        "\u1f00\u03bb\u03bb\u1f70 1\n",
        "\u03b8\u03b5\u03b9\u03cc\u03c4\u03b7\u03c2, 1\n",
        "\u03c3\u03c9\u03c4\u03b7\u03c1\u03af\u03b1\u03bd 1\n",
        "\u03bf\u1f50\u03c1\u03b1\u03bd\u03bf\u1fe6 1\n",
        "\u03c3\u03bf\u03c6\u03bf\u1fd6\u03c2 1\n",
        "\u03c6\u03b8\u03b1\u03c1\u03c4\u03bf\u1fe6 1\n",
        "\u1f11\u03c1\u03c0\u03b5\u03c4\u1ff6\u03bd. 1\n",
        "\u03b3\u1f70\u03c1 5\n",
        "\u03c4\u03b5\u03c4\u03c1\u03b1\u03c0\u03cc\u03b4\u03c9\u03bd 1\n",
        "\u03c6\u03b1\u03bd\u03b5\u03c1\u03cc\u03bd 1\n",
        "\u1f00\u03c0\u2019 1\n",
        "\u1f40\u03c1\u03b3\u1f74 1\n",
        "\u03c4\u1f74\u03bd 2\n",
        "\u03c0\u03af\u03c3\u03c4\u03b5\u03c9\u03c2 2\n",
        "\u03b3\u1f70\u03c1\u2e03 1\n",
        "\u03b1\u1f50\u03c4\u03bf\u1f7a\u03c2 1\n",
        "\u1f00\u03bd\u03b8\u03c1\u03ce\u03c0\u03bf\u03c5 1\n",
        "\u03b4\u03cc\u03be\u03b1\u03bd 1\n",
        "\u03b3\u03ad\u03b3\u03c1\u03b1\u03c0\u03c4\u03b1\u03b9\u00b7 1\n",
        "\u1f00\u03bb\u03ae\u03b8\u03b5\u03b9\u03b1\u03bd 1\n",
        "\u03b6\u03ae\u03c3\u03b5\u03c4\u03b1\u03b9. 1\n",
        "\u03c6\u03ac\u03c3\u03ba\u03bf\u03bd\u03c4\u03b5\u03c2 1\n",
        "\u03b4\u03cd\u03bd\u03b1\u03bc\u03b9\u03c2 2\n",
        "\u1f51\u03bc\u1fd6\u03bd 1\n",
        "\u03c0\u03c1\u1ff6\u03c4\u03bf\u03bd 1\n",
        "\u03b4\u1f72 1\n",
        "\u1f1d\u03bb\u03bb\u03b7\u03bd\u03b9\u00b7 1\n",
        "\u1fec\u03ce\u03bc\u1fc3 1\n",
        "\u1f10\u03bc\u03c9\u03c1\u03ac\u03bd\u03b8\u03b7\u03c3\u03b1\u03bd, 1\n",
        "\u1f10\u03ba 2\n",
        "\u03ba\u03cc\u03c3\u03bc\u03bf\u03c5 1\n",
        "\u1f41\u03bc\u03bf\u03b9\u03ce\u03bc\u03b1\u03c4\u03b9 1\n"
       ]
      },
      {
       "ename": "TypeError",
       "evalue": "'NoneType' object is not iterable",
       "output_type": "pyerr",
       "traceback": [
        "\u001b[1;31m---------------------------------------------------------------------------\u001b[0m\n\u001b[1;31mTypeError\u001b[0m                                 Traceback (most recent call last)",
        "\u001b[1;32m<ipython-input-54-c85d920a2021>\u001b[0m in \u001b[0;36m<module>\u001b[1;34m()\u001b[0m\n\u001b[1;32m----> 1\u001b[1;33m \u001b[0msorted\u001b[0m\u001b[1;33m(\u001b[0m\u001b[0mcounter2\u001b[0m\u001b[1;33m(\u001b[0m\u001b[0mwords\u001b[0m\u001b[1;33m)\u001b[0m\u001b[1;33m)\u001b[0m\u001b[1;33m\u001b[0m\u001b[0m\n\u001b[0m",
        "\u001b[1;31mTypeError\u001b[0m: 'NoneType' object is not iterable"
       ]
      }
     ],
     "prompt_number": 54
    },
    {
     "cell_type": "markdown",
     "metadata": {},
     "source": [
      "---"
     ]
    },
    {
     "cell_type": "heading",
     "level": 4,
     "metadata": {},
     "source": [
      "Quiz!"
     ]
    },
    {
     "cell_type": "markdown",
     "metadata": {},
     "source": [
      "We have written two functions `counter` and `counter2`, both used to count for each unique item in a particular list how often it occurs in that list. Can you come up with some pros and cons for each function? Why is `counter2` better than `counter` or why is `counter` better than `counter2`?"
     ]
    },
    {
     "cell_type": "markdown",
     "metadata": {},
     "source": [
      "*Double click this cell and write down your answer.*"
     ]
    },
    {
     "cell_type": "markdown",
     "metadata": {},
     "source": [
      "---"
     ]
    },
    {
     "cell_type": "heading",
     "level": 2,
     "metadata": {},
     "source": [
      "Text clean up"
     ]
    },
    {
     "cell_type": "markdown",
     "metadata": {},
     "source": [
      "In the previous section we wrote code to compute a frequency distribution of the words in a text stored on our computer. The function `split` is a quick and dirty way of splitting a string into a list of words. However, if we look through the frequency distributions, we notice quite an amount of noise. For instance, the conjunction *\u03b3\u1f70\u03c1* occurs 5 times, but we also find `\u03b3\u1f70\u03c1\u2e03` occurring once.  And `\u1f41` occurs once while the capitalized `\u1f49` also occurs 1 time. Of course we would like to add these counts together. As it appears, the tokenization of our text using `split` is fast and simple, but it leaves us with noisy and incorrect frequency distributions. \n",
      "\n",
      "There are essentially two strategies to follow to correct our frequency distributions. The first is to come up with a better procedure of splitting our text into words. The second is to clean-up our text and pass this clean result to the convenient `split` function. For now we will follow the second path.\n",
      "\n",
      "Some words in our text are capitalized. To lowercase these words, Python provides the function `lower`. It operates on strings:"
     ]
    },
    {
     "cell_type": "code",
     "collapsed": false,
     "input": [
      "x = '\u1f49'\n",
      "x_lower = x.lower()\n",
      "print(x_lower)"
     ],
     "language": "python",
     "metadata": {},
     "outputs": []
    },
    {
     "cell_type": "markdown",
     "metadata": {},
     "source": [
      "We can apply this function to our complete text to obtain a completely lowercased text, using:"
     ]
    },
    {
     "cell_type": "code",
     "collapsed": false,
     "input": [
      "text_lower = text.lower()\n",
      "print(text_lower)"
     ],
     "language": "python",
     "metadata": {},
     "outputs": [
      {
       "output_type": "stream",
       "stream": "stdout",
       "text": [
        " \u1f15\u03bb\u03bb\u03b7\u03c3\u03af\u03bd \u03c4\u03b5 \u03ba\u03b1\u1f76 \u03b2\u03b1\u03c1\u03b2\u03ac\u03c1\u03bf\u03b9\u03c2, \u03c3\u03bf\u03c6\u03bf\u1fd6\u03c2 \u03c4\u03b5 \u03ba\u03b1\u1f76 \u1f00\u03bd\u03bf\u03ae\u03c4\u03bf\u03b9\u03c2 \u1f40\u03c6\u03b5\u03b9\u03bb\u03ad\u03c4\u03b7\u03c2 \u03b5\u1f30\u03bc\u03af\u00b7 \u03bf\u1f55\u03c4\u03c9\u03c2 \u03c4\u1f78 \u03ba\u03b1\u03c4\u2019 \u1f10\u03bc\u1f72 \u03c0\u03c1\u03cc\u03b8\u03c5\u03bc\u03bf\u03bd \u03ba\u03b1\u1f76 \u1f51\u03bc\u1fd6\u03bd \u03c4\u03bf\u1fd6\u03c2 \u1f10\u03bd \u1fe5\u03ce\u03bc\u1fc3 \u03b5\u1f50\u03b1\u03b3\u03b3\u03b5\u03bb\u03af\u03c3\u03b1\u03c3\u03b8\u03b1\u03b9. \u03bf\u1f50 \u03b3\u1f70\u03c1 \u1f10\u03c0\u03b1\u03b9\u03c3\u03c7\u03cd\u03bd\u03bf\u03bc\u03b1\u03b9 \u03c4\u1f78 \u2e00\u03b5\u1f50\u03b1\u03b3\u03b3\u03ad\u03bb\u03b9\u03bf\u03bd, \u03b4\u03cd\u03bd\u03b1\u03bc\u03b9\u03c2 \u03b3\u1f70\u03c1 \u03b8\u03b5\u03bf\u1fe6 \u1f10\u03c3\u03c4\u03b9\u03bd \u03b5\u1f30\u03c2 \u03c3\u03c9\u03c4\u03b7\u03c1\u03af\u03b1\u03bd \u03c0\u03b1\u03bd\u03c4\u1f76 \u03c4\u1ff7 \u03c0\u03b9\u03c3\u03c4\u03b5\u03cd\u03bf\u03bd\u03c4\u03b9, \u1f30\u03bf\u03c5\u03b4\u03b1\u03af\u1ff3 \u03c4\u03b5 \u03c0\u03c1\u1ff6\u03c4\u03bf\u03bd \u03ba\u03b1\u1f76 \u1f15\u03bb\u03bb\u03b7\u03bd\u03b9\u00b7 \u03b4\u03b9\u03ba\u03b1\u03b9\u03bf\u03c3\u03cd\u03bd\u03b7 \u03b3\u1f70\u03c1 \u03b8\u03b5\u03bf\u1fe6 \u1f10\u03bd \u03b1\u1f50\u03c4\u1ff7 \u1f00\u03c0\u03bf\u03ba\u03b1\u03bb\u03cd\u03c0\u03c4\u03b5\u03c4\u03b1\u03b9 \u1f10\u03ba \u03c0\u03af\u03c3\u03c4\u03b5\u03c9\u03c2 \u03b5\u1f30\u03c2 \u03c0\u03af\u03c3\u03c4\u03b9\u03bd, \u03ba\u03b1\u03b8\u1f7c\u03c2 \u03b3\u03ad\u03b3\u03c1\u03b1\u03c0\u03c4\u03b1\u03b9\u00b7 \u1f41 \u03b4\u1f72 \u03b4\u03af\u03ba\u03b1\u03b9\u03bf\u03c2 \u1f10\u03ba \u03c0\u03af\u03c3\u03c4\u03b5\u03c9\u03c2 \u03b6\u03ae\u03c3\u03b5\u03c4\u03b1\u03b9. \u1f00\u03c0\u03bf\u03ba\u03b1\u03bb\u03cd\u03c0\u03c4\u03b5\u03c4\u03b1\u03b9 \u03b3\u1f70\u03c1 \u1f40\u03c1\u03b3\u1f74 \u03b8\u03b5\u03bf\u1fe6 \u1f00\u03c0\u2019 \u03bf\u1f50\u03c1\u03b1\u03bd\u03bf\u1fe6 \u1f10\u03c0\u1f76 \u03c0\u1fb6\u03c3\u03b1\u03bd \u1f00\u03c3\u03ad\u03b2\u03b5\u03b9\u03b1\u03bd \u03ba\u03b1\u1f76 \u1f00\u03b4\u03b9\u03ba\u03af\u03b1\u03bd \u1f00\u03bd\u03b8\u03c1\u03ce\u03c0\u03c9\u03bd \u03c4\u1ff6\u03bd \u03c4\u1f74\u03bd \u1f00\u03bb\u03ae\u03b8\u03b5\u03b9\u03b1\u03bd \u1f10\u03bd \u1f00\u03b4\u03b9\u03ba\u03af\u1fb3 \u03ba\u03b1\u03c4\u03b5\u03c7\u03cc\u03bd\u03c4\u03c9\u03bd, \u03b4\u03b9\u03cc\u03c4\u03b9 \u03c4\u1f78 \u03b3\u03bd\u03c9\u03c3\u03c4\u1f78\u03bd \u03c4\u03bf\u1fe6 \u03b8\u03b5\u03bf\u1fe6 \u03c6\u03b1\u03bd\u03b5\u03c1\u03cc\u03bd \u1f10\u03c3\u03c4\u03b9\u03bd \u1f10\u03bd \u03b1\u1f50\u03c4\u03bf\u1fd6\u03c2, \u1f41 \u2e02\u03b8\u03b5\u1f78\u03c2 \u03b3\u1f70\u03c1\u2e03 \u03b1\u1f50\u03c4\u03bf\u1fd6\u03c2 \u1f10\u03c6\u03b1\u03bd\u03ad\u03c1\u03c9\u03c3\u03b5\u03bd. \u03c4\u1f70 \u03b3\u1f70\u03c1 \u1f00\u03cc\u03c1\u03b1\u03c4\u03b1 \u03b1\u1f50\u03c4\u03bf\u1fe6 \u1f00\u03c0\u1f78 \u03ba\u03c4\u03af\u03c3\u03b5\u03c9\u03c2 \u03ba\u03cc\u03c3\u03bc\u03bf\u03c5 \u03c4\u03bf\u1fd6\u03c2 \u03c0\u03bf\u03b9\u03ae\u03bc\u03b1\u03c3\u03b9\u03bd \u03bd\u03bf\u03bf\u03cd\u03bc\u03b5\u03bd\u03b1 \u03ba\u03b1\u03b8\u03bf\u03c1\u1fb6\u03c4\u03b1\u03b9, \u1f25 \u03c4\u03b5 \u1f00\u0390\u03b4\u03b9\u03bf\u03c2 \u03b1\u1f50\u03c4\u03bf\u1fe6 \u03b4\u03cd\u03bd\u03b1\u03bc\u03b9\u03c2 \u03ba\u03b1\u1f76 \u03b8\u03b5\u03b9\u03cc\u03c4\u03b7\u03c2, \u03b5\u1f30\u03c2 \u03c4\u1f78 \u03b5\u1f36\u03bd\u03b1\u03b9 \u03b1\u1f50\u03c4\u03bf\u1f7a\u03c2 \u1f00\u03bd\u03b1\u03c0\u03bf\u03bb\u03bf\u03b3\u03ae\u03c4\u03bf\u03c5\u03c2, \u03b4\u03b9\u03cc\u03c4\u03b9 \u03b3\u03bd\u03cc\u03bd\u03c4\u03b5\u03c2 \u03c4\u1f78\u03bd \u03b8\u03b5\u1f78\u03bd \u03bf\u1f50\u03c7 \u1f61\u03c2 \u03b8\u03b5\u1f78\u03bd \u1f10\u03b4\u03cc\u03be\u03b1\u03c3\u03b1\u03bd \u1f22 \u03b7\u1f50\u03c7\u03b1\u03c1\u03af\u03c3\u03c4\u03b7\u03c3\u03b1\u03bd, \u1f00\u03bb\u03bb\u1f70 \u1f10\u03bc\u03b1\u03c4\u03b1\u03b9\u03ce\u03b8\u03b7\u03c3\u03b1\u03bd \u1f10\u03bd \u03c4\u03bf\u1fd6\u03c2 \u03b4\u03b9\u03b1\u03bb\u03bf\u03b3\u03b9\u03c3\u03bc\u03bf\u1fd6\u03c2 \u03b1\u1f50\u03c4\u1ff6\u03bd \u03ba\u03b1\u1f76 \u1f10\u03c3\u03ba\u03bf\u03c4\u03af\u03c3\u03b8\u03b7 \u1f21 \u1f00\u03c3\u03cd\u03bd\u03b5\u03c4\u03bf\u03c2 \u03b1\u1f50\u03c4\u1ff6\u03bd \u03ba\u03b1\u03c1\u03b4\u03af\u03b1\u00b7 \u03c6\u03ac\u03c3\u03ba\u03bf\u03bd\u03c4\u03b5\u03c2 \u03b5\u1f36\u03bd\u03b1\u03b9 \u03c3\u03bf\u03c6\u03bf\u1f76 \u1f10\u03bc\u03c9\u03c1\u03ac\u03bd\u03b8\u03b7\u03c3\u03b1\u03bd, \u03ba\u03b1\u1f76 \u1f24\u03bb\u03bb\u03b1\u03be\u03b1\u03bd \u03c4\u1f74\u03bd \u03b4\u03cc\u03be\u03b1\u03bd \u03c4\u03bf\u1fe6 \u1f00\u03c6\u03b8\u03ac\u03c1\u03c4\u03bf\u03c5 \u03b8\u03b5\u03bf\u1fe6 \u1f10\u03bd \u1f41\u03bc\u03bf\u03b9\u03ce\u03bc\u03b1\u03c4\u03b9 \u03b5\u1f30\u03ba\u03cc\u03bd\u03bf\u03c2 \u03c6\u03b8\u03b1\u03c1\u03c4\u03bf\u1fe6 \u1f00\u03bd\u03b8\u03c1\u03ce\u03c0\u03bf\u03c5 \u03ba\u03b1\u1f76 \u03c0\u03b5\u03c4\u03b5\u03b9\u03bd\u1ff6\u03bd \u03ba\u03b1\u1f76 \u03c4\u03b5\u03c4\u03c1\u03b1\u03c0\u03cc\u03b4\u03c9\u03bd \u03ba\u03b1\u1f76 \u1f11\u03c1\u03c0\u03b5\u03c4\u1ff6\u03bd.\n"
       ]
      }
     ],
     "prompt_number": 55
    },
    {
     "cell_type": "markdown",
     "metadata": {},
     "source": [
      "This solves our problem with miscounting capitalized words, leaving us with the problem of punctuation. The function `replace` is just the function we're looking for. It takes two arguments: (1) the string we would like to replace and (2) the string we want to replace the first argument with:"
     ]
    },
    {
     "cell_type": "code",
     "collapsed": false,
     "input": [
      "x = 'Please. remove. all. dots. from. this. sentence.'\n",
      "x = x.replace(\".\", \"\")\n",
      "print(x)"
     ],
     "language": "python",
     "metadata": {},
     "outputs": [
      {
       "output_type": "stream",
       "stream": "stdout",
       "text": [
        "Please remove all dots from this sentence\n"
       ]
      }
     ],
     "prompt_number": 56
    },
    {
     "cell_type": "markdown",
     "metadata": {},
     "source": [
      "Notice that we replace all dots with an empty string written as `\"\"`. "
     ]
    },
    {
     "cell_type": "markdown",
     "metadata": {},
     "source": [
      "---"
     ]
    },
    {
     "cell_type": "heading",
     "level": 4,
     "metadata": {},
     "source": [
      "Quiz!"
     ]
    },
    {
     "cell_type": "markdown",
     "metadata": {},
     "source": [
      "Write code that to lowercase and remove all commas in the following short text:"
     ]
    },
    {
     "cell_type": "code",
     "collapsed": false,
     "input": [
      "short_text = \"Commas, as it turns out, are so much overestimated.\"\n",
      "# insert your code here\n",
      "short_text = short_text.lower().replace(',', '')\n",
      "# The following test should print True if your code is correct \n",
      "print(short_text == \"commas as it turns out are so much overestimated.\")"
     ],
     "language": "python",
     "metadata": {},
     "outputs": [
      {
       "output_type": "stream",
       "stream": "stdout",
       "text": [
        "True\n"
       ]
      }
     ],
     "prompt_number": 59
    },
    {
     "cell_type": "markdown",
     "metadata": {},
     "source": [
      "---"
     ]
    },
    {
     "cell_type": "markdown",
     "metadata": {},
     "source": [
      "We would like to remove all punctuation from a text, not just dots and commas. We will write a function called `remove_punc` that removes all (simple) punctuation from a text. Again, there are many ways in which we can write this function. We will show you two of them. The first strategy is to repeatedly call `replace` on the same string each time replacing a different punctuation character with an empty string. "
     ]
    },
    {
     "cell_type": "code",
     "collapsed": false,
     "input": [
      "def remove_punc(text):\n",
      "    punctuation = '!@#$%^&*()_-+={}[]:;\"\\'|<>,.?/~`'\n",
      "    for marker in punctuation:\n",
      "        text = text.replace(marker, \"\")\n",
      "    return text\n",
      "\n",
      "short_text = \"Commas, as it turns out, are overestimated. Dots, however, even more so!\"\n",
      "print(remove_punc(short_text))"
     ],
     "language": "python",
     "metadata": {},
     "outputs": [
      {
       "output_type": "stream",
       "stream": "stdout",
       "text": [
        "Commas as it turns out are overestimated Dots however even more so\n"
       ]
      }
     ],
     "prompt_number": 60
    },
    {
     "cell_type": "markdown",
     "metadata": {},
     "source": [
      "The second strategy we will follow is to show you that we can achieve the same result without using the built in function `replace`. Remember that a string consists of characters. We can loop over a string accessing each character in turn. Each time we find a punctuation marker we skip to the next character."
     ]
    },
    {
     "cell_type": "code",
     "collapsed": false,
     "input": [
      "def remove_punc2(text):\n",
      "    punctuation = '!@#$%^&*()_-+={}[]:;\"\\'|<>,.?/~`'\n",
      "    clean_text = \"\"\n",
      "    for character in text:\n",
      "        if character not in punctuation:\n",
      "            clean_text += character\n",
      "    return clean_text\n",
      "\n",
      "short_text = \"Commas, as it turns out, are overestimated. Dots, however, even more so!\"\n",
      "print(remove_punc2(short_text))"
     ],
     "language": "python",
     "metadata": {},
     "outputs": [
      {
       "output_type": "stream",
       "stream": "stdout",
       "text": [
        "Commas as it turns out are overestimated Dots however even more so\n"
       ]
      }
     ],
     "prompt_number": 61
    },
    {
     "cell_type": "code",
     "collapsed": false,
     "input": [
      "%timeit remove_punc2(short_text)\n",
      "%timeit remove_punc(short_text)"
     ],
     "language": "python",
     "metadata": {},
     "outputs": [
      {
       "output_type": "stream",
       "stream": "stdout",
       "text": [
        "100000 loops, best of 3: 7.07 \u00b5s per loop\n",
        "100000 loops, best of 3: 5.76 \u00b5s per loop"
       ]
      },
      {
       "output_type": "stream",
       "stream": "stdout",
       "text": [
        "\n"
       ]
      }
     ],
     "prompt_number": 63
    },
    {
     "cell_type": "markdown",
     "metadata": {},
     "source": [
      "---"
     ]
    },
    {
     "cell_type": "heading",
     "level": 4,
     "metadata": {},
     "source": [
      "Quiz!"
     ]
    },
    {
     "cell_type": "markdown",
     "metadata": {},
     "source": [
      "1) Can you come up with any pros or cons for each of the two functions above?"
     ]
    },
    {
     "cell_type": "markdown",
     "metadata": {},
     "source": [
      "*Write your answer here* (double click me)"
     ]
    },
    {
     "cell_type": "markdown",
     "metadata": {},
     "source": [
      "2) Now it is time to put everything together. We want to write a function `clean_text` that takes as argument a text represented by string. The function should return this string with all punctuation removed and all characters lowercased."
     ]
    },
    {
     "cell_type": "code",
     "collapsed": false,
     "input": [
      "def clean_text(text):\n",
      "    # insert your code here\n",
      "    text = text.lower()\n",
      "    punctuation = '!@#$%^&*()_-+={}[]:;\"\\'|<>,.?/~`'\n",
      "    for marker in punctuation:\n",
      "        text = text.replace(marker, '')\n",
      "    return text\n",
      "# The following test should print True if your code is correct \n",
      "short_text = \"Commas, as it turns out, are overestimated. Dots, however, even more so!\"\n",
      "print(clean_text(short_text) == \n",
      "      \"commas as it turns out are overestimated dots however even more so\")"
     ],
     "language": "python",
     "metadata": {},
     "outputs": [
      {
       "output_type": "stream",
       "stream": "stdout",
       "text": [
        "True\n"
       ]
      }
     ],
     "prompt_number": 67
    },
    {
     "cell_type": "markdown",
     "metadata": {},
     "source": [
      "3) This last excercise puts everything together. We want you to open and read the file `data/romans_gk.txt` text once more, clean up the text and recompute the frequency distribution. Assign to `christou_counts` the number of times the genetive title *\u03c7\u03c1\u03b9\u03c3\u03c4\u03bf\u1fe6* occurs in the text.\n",
      "\n",
      "But before we do that, we need a slightly altered version of our `remove_punc` function that uses the Greek instead of the English punctuation (i.e., \u2019(.;)\u2014\u2e02\u2e00\u2e01,\u00b7\u2e03) and a `clean_text` function that uses this new function."
     ]
    },
    {
     "cell_type": "code",
     "collapsed": false,
     "input": [
      "def remove_punc_greek(text):\n",
      "    punctuation = '\u2019(.;)\u2014\u2e02\u2e00\u2e01,\u00b7\u2e03'\n",
      "    for marker in punctuation:\n",
      "        text = text.replace(marker, \"\")\n",
      "    return text\n",
      "\n",
      "def clean_greek(text):\n",
      "    return remove_punc_greek(text.lower())"
     ],
     "language": "python",
     "metadata": {},
     "outputs": [],
     "prompt_number": 68
    },
    {
     "cell_type": "code",
     "collapsed": false,
     "input": [
      "# insert your code here\n",
      "infile = open('data/romans_gk.txt')\n",
      "text = infile.read()\n",
      "infile.close()\n",
      "text = clean_greek(text)\n",
      "words = text.split()\n",
      "freq_dist = counter(words)\n",
      "christou_counts = freq_dist['\u03c7\u03c1\u03b9\u03c3\u03c4\u03bf\u1fe6']\n",
      "# The following test should print True if your code is correct \n",
      "print(christou_counts == 27)\n",
      "print(freq_dist['\u03b8\u03b5\u03bf\u1fe6'])"
     ],
     "language": "python",
     "metadata": {},
     "outputs": [
      {
       "output_type": "stream",
       "stream": "stdout",
       "text": [
        "True\n",
        "75\n"
       ]
      }
     ],
     "prompt_number": 71
    },
    {
     "cell_type": "markdown",
     "metadata": {},
     "source": [
      "---"
     ]
    },
    {
     "cell_type": "heading",
     "level": 2,
     "metadata": {},
     "source": [
      "Writing results to a file"
     ]
    },
    {
     "cell_type": "markdown",
     "metadata": {},
     "source": [
      "We have accomplished a lot! You have learnt how to read files using Python from your computer, how to manipulate them, clean them up and compute a frequency distribution of the words in a text file. We will finish this chapter with explaining to you how to write your results to a file. We have already seen how to read a text from our disk. Writing to our disk is only slightly different. The following lines of code write a single sentence to the file `first-output.txt`."
     ]
    },
    {
     "cell_type": "code",
     "collapsed": false,
     "input": [
      "outfile = open(\"first-output.txt\", mode=\"w\")\n",
      "outfile.write(\"My first output.\")\n",
      "print(outfile)\n",
      "outfile.close()"
     ],
     "language": "python",
     "metadata": {},
     "outputs": [
      {
       "output_type": "stream",
       "stream": "stdout",
       "text": [
        "<_io.TextIOWrapper name='first-output.txt' mode='w' encoding='UTF-8'>\n"
       ]
      }
     ],
     "prompt_number": 75
    },
    {
     "cell_type": "markdown",
     "metadata": {},
     "source": [
      "Go ahead and open the file `first-output.txt` located in the folder where this course resides. As you can see it contains the line `My first output.`. To write something to a file we open, just as in the case of reading a file, a `TextIOWrapper` which can be seen as a connection to the file `first-output.txt`. The difference with opening a file for reading is the *mode* with which we open the connection. Here the mode says `w`, meaning \"open the file for writing\". To open a file for reading, we set the mode to `r`. However, since this is Python's default setting, we may omit it."
     ]
    },
    {
     "cell_type": "markdown",
     "metadata": {},
     "source": [
      "---"
     ]
    },
    {
     "cell_type": "heading",
     "level": 4,
     "metadata": {},
     "source": [
      "Quiz!"
     ]
    },
    {
     "cell_type": "markdown",
     "metadata": {},
     "source": [
      "In the final quiz of this chapter we will ask you to write the frequency distribution over the words in `data/romans_gk.txt` to the file `data/romans-frequency-distribution.txt`. We will give you some code to get you started"
     ]
    },
    {
     "cell_type": "code",
     "collapsed": false,
     "input": [
      "# first open and read data/romans_gk.txt. Don't forget to close the infile\n",
      "infile = open(\"data/romans_gk.txt\")\n",
      "text = infile.read() # read the contents of the infile\n",
      "# close the file handler\n",
      "infile.close()\n",
      "# clean the text\n",
      "romans = clean_greek(text)\n",
      "romans = romans.split()\n",
      "\n",
      "# next compute the frequency distribution using the function counter\n",
      "frequency_distribution = counter(romans)\n",
      "# now open the file data/romans-frequency-distribution.txt for writing\n",
      "outfile = open('data/romans-frequency-distribution.txt', mode='w')\n",
      "\n",
      "#The following lines will write the frequency distribution to a text file\n",
      "for word, frequency in frequency_distribution.items():\n",
      "    outfile.write(word + \";\" + str(frequency) + '\\n')\n",
      "    \n",
      "# close the outfile\n",
      "outfile.close()"
     ],
     "language": "python",
     "metadata": {},
     "outputs": [],
     "prompt_number": 76
    },
    {
     "cell_type": "markdown",
     "metadata": {},
     "source": [
      "---"
     ]
    },
    {
     "cell_type": "markdown",
     "metadata": {},
     "source": [
      "Ignore the following, it's just here to make the page pretty:"
     ]
    },
    {
     "cell_type": "code",
     "collapsed": false,
     "input": [
      "from IPython.core.display import HTML\n",
      "def css_styling():\n",
      "    styles = open(\"styles/custom.css\", \"r\").read()\n",
      "    return HTML(styles)\n",
      "css_styling()"
     ],
     "language": "python",
     "metadata": {},
     "outputs": []
    },
    {
     "cell_type": "markdown",
     "metadata": {},
     "source": [
      "---"
     ]
    },
    {
     "cell_type": "markdown",
     "metadata": {},
     "source": [
      "<p><small><a rel=\"license\" href=\"http://creativecommons.org/licenses/by-sa/4.0/\"><img alt=\"Creative Commons License\" style=\"border-width:0\" src=\"https://i.creativecommons.org/l/by-sa/4.0/88x31.png\" /></a><br /><span xmlns:dct=\"http://purl.org/dc/terms/\" property=\"dct:title\">Python Programming for the Humanities</span> by <a xmlns:cc=\"http://creativecommons.org/ns#\" href=\"http://fbkarsdorp.github.io/python-course\" property=\"cc:attributionName\" rel=\"cc:attributionURL\">http://fbkarsdorp.github.io/python-course</a> is licensed under a <a rel=\"license\" href=\"http://creativecommons.org/licenses/by-sa/4.0/\">Creative Commons Attribution-ShareAlike 4.0 International License</a>. Based on a work at <a xmlns:dct=\"http://purl.org/dc/terms/\" href=\"https://github.com/fbkarsdorp/python-course\" rel=\"dct:source\">https://github.com/fbkarsdorp/python-course</a>.</small></p>"
     ]
    }
   ],
   "metadata": {}
  }
 ]
}